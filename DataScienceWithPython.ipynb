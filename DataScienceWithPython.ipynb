{
 "cells": [
  {
   "cell_type": "code",
   "execution_count": 2,
   "id": "f563addd",
   "metadata": {},
   "outputs": [
    {
     "name": "stdout",
     "output_type": "stream",
     "text": [
      "Series object 1:\n",
      "0     4\n",
      "1     6\n",
      "2     8\n",
      "3    10\n",
      "dtype: int64\n"
     ]
    }
   ],
   "source": [
    "import pandas as pd\n",
    "s1=pd.Series([4,6,8,10])\n",
    "print('Series object 1:')\n",
    "print(s1)"
   ]
  },
  {
   "cell_type": "code",
   "execution_count": 3,
   "id": "aad66da7",
   "metadata": {},
   "outputs": [
    {
     "name": "stdout",
     "output_type": "stream",
     "text": [
      "Series object 2:\n",
      "0    11\n",
      "1    21\n",
      "2    31\n",
      "3    41\n",
      "dtype: int64\n"
     ]
    }
   ],
   "source": [
    "import pandas as pd\n",
    "s1=pd.Series([11,21,31,41])\n",
    "print('Series object 2:')\n",
    "print(s1)"
   ]
  },
  {
   "cell_type": "code",
   "execution_count": 5,
   "id": "f7be8aec",
   "metadata": {},
   "outputs": [
    {
     "name": "stdout",
     "output_type": "stream",
     "text": [
      "0    0\n",
      "1    1\n",
      "2    2\n",
      "3    3\n",
      "4    4\n",
      "dtype: int64\n"
     ]
    }
   ],
   "source": [
    "import pandas as pd\n",
    "obj1=pd.Series(range(5))\n",
    "print(obj1)"
   ]
  },
  {
   "cell_type": "code",
   "execution_count": 6,
   "id": "225a275b",
   "metadata": {},
   "outputs": [
    {
     "name": "stdout",
     "output_type": "stream",
     "text": [
      "Series object:\n",
      "0    o\n",
      "1    h\n",
      "2    o\n",
      "dtype: object\n"
     ]
    }
   ],
   "source": [
    "import pandas as pd\n",
    "obj1=pd.Series(['o','h','o'])\n",
    "print('Series object:')\n",
    "print(obj1)"
   ]
  },
  {
   "cell_type": "code",
   "execution_count": 7,
   "id": "c640a2a2",
   "metadata": {},
   "outputs": [
    {
     "name": "stdout",
     "output_type": "stream",
     "text": [
      "Series object is:\n",
      "0    So funny\n",
      "dtype: object\n"
     ]
    }
   ],
   "source": [
    "import pandas as pd\n",
    "print('Series object is:')\n",
    "s4=pd.Series(\"So funny\")\n",
    "print(s4)"
   ]
  },
  {
   "cell_type": "code",
   "execution_count": 8,
   "id": "ec0c6aa8",
   "metadata": {},
   "outputs": [
    {
     "name": "stdout",
     "output_type": "stream",
     "text": [
      "Series object:\n",
      "0           I\n",
      "1          am\n",
      "2    laughing\n",
      "dtype: object\n"
     ]
    }
   ],
   "source": [
    "import pandas as pd\n",
    "s5=pd.Series([\"I\",\"am\",\"laughing\"])\n",
    "print(\"Series object:\")\n",
    "print(s5)"
   ]
  },
  {
   "cell_type": "code",
   "execution_count": 12,
   "id": "8b27a5f1",
   "metadata": {},
   "outputs": [
    {
     "name": "stdout",
     "output_type": "stream",
     "text": [
      "0    24.0\n",
      "1    34.0\n",
      "2    44.0\n",
      "3    54.0\n",
      "4    64.0\n",
      "dtype: float64\n"
     ]
    }
   ],
   "source": [
    "import pandas as pd\n",
    "s6=pd.Series(np.linspace(24,64,5))\n",
    "print(s6)"
   ]
  },
  {
   "cell_type": "code",
   "execution_count": 13,
   "id": "3017d07a",
   "metadata": {},
   "outputs": [
    {
     "name": "stdout",
     "output_type": "stream",
     "text": [
      "0    3\n",
      "1    5\n",
      "2    3\n",
      "3    5\n",
      "dtype: int32\n"
     ]
    }
   ],
   "source": [
    "import pandas as pd\n",
    "s7=pd.Series(np.tile([3,5],2))\n",
    "print(s7)"
   ]
  },
  {
   "cell_type": "code",
   "execution_count": 14,
   "id": "1c9940c4",
   "metadata": {},
   "outputs": [
    {
     "name": "stdout",
     "output_type": "stream",
     "text": [
      "Jan    31\n",
      "Feb    28\n",
      "Mar    31\n",
      "dtype: int64\n"
     ]
    }
   ],
   "source": [
    "import pandas as pd\n",
    "obj5=pd.Series({'Jan':31,'Feb':28,'Mar':31})\n",
    "print(obj5)"
   ]
  },
  {
   "cell_type": "code",
   "execution_count": 15,
   "id": "93b4ab83",
   "metadata": {},
   "outputs": [
    {
     "name": "stdout",
     "output_type": "stream",
     "text": [
      "A    39\n",
      "B    41\n",
      "C    42\n",
      "D    44\n",
      "dtype: int64\n"
     ]
    }
   ],
   "source": [
    "import pandas as pd\n",
    "stu={'A':39,'B':41,'C':42,'D':44}\n",
    "s8=pd.Series(stu)\n",
    "print(s8)"
   ]
  },
  {
   "cell_type": "code",
   "execution_count": 17,
   "id": "6ac44fd3",
   "metadata": {},
   "outputs": [
    {
     "name": "stdout",
     "output_type": "stream",
     "text": [
      "0    10\n",
      "dtype: int64\n",
      "1    15\n",
      "3    15\n",
      "5    15\n",
      "dtype: int64\n",
      "Indore    Yet to start\n",
      "Delhi     Yet to start\n",
      "Shimla    Yet to start\n",
      "dtype: object\n"
     ]
    }
   ],
   "source": [
    "import pandas as pd\n",
    "medalsWon=pd.Series(10,index=range(0,1))\n",
    "medals2=pd.Series(15,index=range(1,6,2))\n",
    "ser2=pd.Series('Yet to start',index=['Indore','Delhi','Shimla'])\n",
    "print(medalsWon)\n",
    "print(medals2)\n",
    "print(ser2)"
   ]
  },
  {
   "cell_type": "code",
   "execution_count": 18,
   "id": "8361fb75",
   "metadata": {},
   "outputs": [
    {
     "name": "stdout",
     "output_type": "stream",
     "text": [
      "2020    200\n",
      "2022    200\n",
      "2024    200\n",
      "2026    200\n",
      "2028    200\n",
      "dtype: int64\n"
     ]
    }
   ],
   "source": [
    "import pandas as pd\n",
    "s10=pd.Series(200,index=range(2020,2029,2))\n",
    "print(s10)"
   ]
  },
  {
   "cell_type": "code",
   "execution_count": 20,
   "id": "af7f7408",
   "metadata": {},
   "outputs": [
    {
     "name": "stdout",
     "output_type": "stream",
     "text": [
      "31    Jan\n",
      "56    feb\n",
      "54    Mar\n",
      "65    Apr\n",
      "dtype: object\n"
     ]
    }
   ],
   "source": [
    "import pandas as pd\n",
    "arr=[\"Jan\",\"feb\",\"Mar\",\"Apr\"]\n",
    "mon=[31,56,54,65]\n",
    "obj3=pd.Series(data=arr,index=mon)\n",
    "print(obj3)"
   ]
  },
  {
   "cell_type": "code",
   "execution_count": 21,
   "id": "d5590554",
   "metadata": {},
   "outputs": [
    {
     "name": "stdout",
     "output_type": "stream",
     "text": [
      "Jan    31\n",
      "feb    56\n",
      "Mar    54\n",
      "Apr    65\n",
      "dtype: int64\n"
     ]
    }
   ],
   "source": [
    "import pandas as pd\n",
    "arr=[\"Jan\",\"feb\",\"Mar\",\"Apr\"]\n",
    "mon=[31,56,54,65]\n",
    "obj3=pd.Series(data=mon,index=arr)\n",
    "print(obj3)"
   ]
  },
  {
   "cell_type": "code",
   "execution_count": 22,
   "id": "49947268",
   "metadata": {},
   "outputs": [
    {
     "name": "stdout",
     "output_type": "stream",
     "text": [
      "A    32\n",
      "B    34\n",
      "C    35\n",
      "dtype: int64\n"
     ]
    }
   ],
   "source": [
    "import pandas as pd\n",
    "obj4=pd.Series(data=[32,34,35],index=['A','B','C'])\n",
    "print(obj4)"
   ]
  },
  {
   "cell_type": "code",
   "execution_count": 23,
   "id": "08a28e80",
   "metadata": {},
   "outputs": [
    {
     "name": "stdout",
     "output_type": "stream",
     "text": [
      "0    6.50\n",
      "1     NaN\n",
      "2    2.34\n",
      "dtype: float64\n"
     ]
    }
   ],
   "source": [
    "import pandas as pd\n",
    "obj4=pd.Series([6.5,np.NaN,2.34])\n",
    "print(obj4)"
   ]
  },
  {
   "cell_type": "code",
   "execution_count": 24,
   "id": "b91f409f",
   "metadata": {},
   "outputs": [
    {
     "name": "stdout",
     "output_type": "stream",
     "text": [
      "a     1\n",
      "b     4\n",
      "c     7\n",
      "d    10\n",
      "e    13\n",
      "dtype: int64\n"
     ]
    }
   ],
   "source": [
    "import pandas as pd\n",
    "s1=pd.Series(range(1,15,3),index=[x for x in 'abcde'])\n",
    "print(s1)"
   ]
  },
  {
   "cell_type": "code",
   "execution_count": 25,
   "id": "e1a054c5",
   "metadata": {},
   "outputs": [
    {
     "name": "stdout",
     "output_type": "stream",
     "text": [
      "A    6700\n",
      "B    5600\n",
      "C    5000\n",
      "D    5200\n",
      "dtype: int64\n"
     ]
    }
   ],
   "source": [
    "import pandas as pd\n",
    "section=['A','B','C','D']\n",
    "contri=[6700,5600,5000,5200]\n",
    "s11=pd.Series(data=contri,index=section)\n",
    "print(s11)"
   ]
  },
  {
   "cell_type": "code",
   "execution_count": 29,
   "id": "f79ade6a",
   "metadata": {},
   "outputs": [
    {
     "name": "stdout",
     "output_type": "stream",
     "text": [
      "[ 9 10 11 12]\n",
      "9     18\n",
      "10    20\n",
      "11    22\n",
      "12    24\n",
      "dtype: int32\n",
      "9      81\n",
      "10    100\n",
      "11    121\n",
      "12    144\n",
      "dtype: int32\n",
      "0     9\n",
      "1    10\n",
      "2    11\n",
      "3    12\n",
      "4     9\n",
      "5    10\n",
      "6    11\n",
      "7    12\n",
      "dtype: int64\n"
     ]
    }
   ],
   "source": [
    "import pandas as pd\n",
    "a=np.arange(9,13)\n",
    "print(a)\n",
    "obj7=pd.Series(index=a,data=a*2)\n",
    "print(obj7)\n",
    "obj8=pd.Series(index=a,data=a**2)\n",
    "print(obj8)\n",
    "lst=[9,10,11,12]\n",
    "obj8=pd.Series(data=(2*lst))\n",
    "print(obj8)"
   ]
  },
  {
   "cell_type": "code",
   "execution_count": 30,
   "id": "7ea4d845",
   "metadata": {},
   "outputs": [
    {
     "name": "stdout",
     "output_type": "stream",
     "text": [
      "A    13400.0\n",
      "B    11200.0\n",
      "C    10000.0\n",
      "D    10400.0\n",
      "E        NaN\n",
      "dtype: float32\n"
     ]
    }
   ],
   "source": [
    "import pandas as pd\n",
    "import numpy as np\n",
    "section=['A','B','C','D','E']\n",
    "contri1=np.array([6700,5600,5000,5200,np.NaN])\n",
    "s12=pd.Series(data=contri1*2,index=section,dtype=np.float32)\n",
    "print(s12)\n"
   ]
  },
  {
   "cell_type": "code",
   "execution_count": 32,
   "id": "efb19d36",
   "metadata": {},
   "outputs": [
    {
     "name": "stdout",
     "output_type": "stream",
     "text": [
      "A    13400.0\n",
      "B    11200.0\n",
      "C    10000.0\n",
      "D    10400.0\n",
      "E        NaN\n",
      "dtype: float32\n"
     ]
    }
   ],
   "source": [
    "import pandas as pd\n",
    "import numpy as np\n",
    "section=['A','B','C','D','E']\n",
    "contri1=np.array([6700,5600,5000,5200,np.NaN])\n",
    "s12=pd.Series(data=contri1*2,index=section,dtype=np.float32)\n",
    "print(s12)"
   ]
  },
  {
   "cell_type": "code",
   "execution_count": 36,
   "id": "97275a66",
   "metadata": {},
   "outputs": [
    {
     "name": "stdout",
     "output_type": "stream",
     "text": [
      "Jan    31.0\n",
      "Feb    28.0\n",
      "Mar    31.0\n",
      "Apr    30.0\n",
      "dtype: float64\n",
      "Index(['Jan', 'Feb', 'Mar', 'Apr'], dtype='object')\n",
      "[31. 28. 31. 30.]\n"
     ]
    },
    {
     "ename": "NameError",
     "evalue": "name 'obj6' is not defined",
     "output_type": "error",
     "traceback": [
      "\u001b[1;31m---------------------------------------------------------------------------\u001b[0m",
      "\u001b[1;31mNameError\u001b[0m                                 Traceback (most recent call last)",
      "\u001b[1;32m~\\AppData\\Local\\Temp/ipykernel_17496/958435937.py\u001b[0m in \u001b[0;36m<module>\u001b[1;34m\u001b[0m\n\u001b[0;32m      6\u001b[0m \u001b[0mprint\u001b[0m\u001b[1;33m(\u001b[0m\u001b[0mobj5\u001b[0m\u001b[1;33m.\u001b[0m\u001b[0mindex\u001b[0m\u001b[1;33m)\u001b[0m\u001b[1;33m\u001b[0m\u001b[1;33m\u001b[0m\u001b[0m\n\u001b[0;32m      7\u001b[0m \u001b[0mprint\u001b[0m\u001b[1;33m(\u001b[0m\u001b[0mobj5\u001b[0m\u001b[1;33m.\u001b[0m\u001b[0mvalues\u001b[0m\u001b[1;33m)\u001b[0m\u001b[1;33m\u001b[0m\u001b[1;33m\u001b[0m\u001b[0m\n\u001b[1;32m----> 8\u001b[1;33m \u001b[0mprint\u001b[0m\u001b[1;33m(\u001b[0m\u001b[0mobj6\u001b[0m\u001b[1;33m.\u001b[0m\u001b[0mindex\u001b[0m\u001b[1;33m)\u001b[0m\u001b[1;33m\u001b[0m\u001b[1;33m\u001b[0m\u001b[0m\n\u001b[0m\u001b[0;32m      9\u001b[0m \u001b[0mprint\u001b[0m\u001b[1;33m(\u001b[0m\u001b[0mobj7\u001b[0m\u001b[1;33m.\u001b[0m\u001b[0mindex\u001b[0m\u001b[1;33m)\u001b[0m\u001b[1;33m\u001b[0m\u001b[1;33m\u001b[0m\u001b[0m\n",
      "\u001b[1;31mNameError\u001b[0m: name 'obj6' is not defined"
     ]
    }
   ],
   "source": [
    "import pandas as pd\n",
    "arr=[31,28,31,30]\n",
    "mon=['Jan','Feb','Mar','Apr']\n",
    "obj5=pd.Series(data=arr,index=mon,dtype=np.float64)\n",
    "print(obj5)\n",
    "print(obj5.index)\n",
    "print(obj5.values)\n"
   ]
  },
  {
   "cell_type": "code",
   "execution_count": 7,
   "id": "0f1450e3",
   "metadata": {},
   "outputs": [
    {
     "name": "stdout",
     "output_type": "stream",
     "text": [
      "0    3.5\n",
      "1    5.0\n",
      "2    6.5\n",
      "3    8.0\n",
      "dtype: float64\n",
      "0    6.50\n",
      "1     NaN\n",
      "2    2.34\n",
      "dtype: float64\n",
      "1     NaN\n",
      "2    2.34\n",
      "dtype: float64\n",
      "2    2.34\n",
      "dtype: float64\n",
      "0    6.50\n",
      "2    2.34\n",
      "dtype: float64\n",
      "2    2.34\n",
      "1     NaN\n",
      "0    6.50\n",
      "dtype: float64\n",
      "float64\n",
      "<class 'pandas.core.series.Series'>\n",
      "1\n",
      "4 3\n",
      "32 24\n",
      "False\n",
      "4\n",
      "3\n"
     ]
    }
   ],
   "source": [
    "import pandas as pd\n",
    "import numpy as np\n",
    "obj2=pd.Series([3.5,5.,6.5,8.])\n",
    "print(obj2)\n",
    "obj3=pd.Series([6.5,np.NaN,2.34])\n",
    "print(obj3)\n",
    "print(obj3[1: ])\n",
    "print(obj3[2:5])\n",
    "print(obj3[0: :2])\n",
    "print(obj3[: :-1])\n",
    "print(obj2.dtype)\n",
    "print(type(obj2))\n",
    "print(obj2.ndim)\n",
    "print(obj2.size,obj3.size)\n",
    "print(obj2.nbytes,obj3.nbytes)\n",
    "print(obj2.hasnans)\n",
    "print(obj2.count())\n",
    "print(len(obj3))"
   ]
  },
  {
   "cell_type": "code",
   "execution_count": 12,
   "id": "77de89b6",
   "metadata": {},
   "outputs": [
    {
     "name": "stdout",
     "output_type": "stream",
     "text": [
      "A    6700\n",
      "B    5600\n",
      "C    5000\n",
      "D    5200\n",
      "dtype: int64\n",
      "A    670000\n",
      "B    560000\n",
      "dtype: int64\n",
      "6700\n"
     ]
    }
   ],
   "source": [
    "import pandas as pd\n",
    "section=['A','B','C','D']\n",
    "contri=[6700,5600,5000,5200]\n",
    "s11=pd.Series(data=contri,index=section)\n",
    "print(s11)\n",
    "print(s11[:2]*100)\n",
    "print(s11[0])"
   ]
  },
  {
   "cell_type": "code",
   "execution_count": 18,
   "id": "03f25530",
   "metadata": {},
   "outputs": [
    {
     "name": "stdout",
     "output_type": "stream",
     "text": [
      "Series object 2:\n",
      "0    11\n",
      "1    21\n",
      "2    31\n",
      "3    41\n",
      "dtype: int64\n",
      "0    54\n",
      "1    21\n",
      "2    31\n",
      "3    41\n",
      "dtype: int64\n",
      "0    54\n",
      "1    21\n",
      "2    59\n",
      "3    59\n",
      "dtype: int64\n",
      "a    54\n",
      "b    21\n",
      "c    59\n",
      "d    59\n",
      "dtype: int64\n"
     ]
    }
   ],
   "source": [
    "import pandas as pd\n",
    "s1=pd.Series([11,21,31,41])\n",
    "print('Series object 2:')\n",
    "print(s1)\n",
    "s1[0]=54\n",
    "print(s1)\n",
    "s1[2:4]=59\n",
    "print(s1)\n",
    "s1.index=['a','b','c','d']\n",
    "print(s1)"
   ]
  },
  {
   "cell_type": "code",
   "execution_count": 22,
   "id": "20d79cb0",
   "metadata": {},
   "outputs": [
    {
     "name": "stdout",
     "output_type": "stream",
     "text": [
      "Series object 2:\n",
      "0    11\n",
      "1    21\n",
      "2    31\n",
      "3    41\n",
      "4    98\n",
      "5    65\n",
      "6    34\n",
      "7    61\n",
      "8    23\n",
      "9    98\n",
      "dtype: int64\n",
      "0    11\n",
      "1    21\n",
      "2    31\n",
      "3    41\n",
      "4    98\n",
      "dtype: int64\n",
      "0    11\n",
      "1    21\n",
      "2    31\n",
      "3    41\n",
      "4    98\n",
      "5    65\n",
      "6    34\n",
      "dtype: int64\n",
      "5    65\n",
      "6    34\n",
      "7    61\n",
      "8    23\n",
      "9    98\n",
      "dtype: int64\n",
      "3    41\n",
      "4    98\n",
      "5    65\n",
      "6    34\n",
      "7    61\n",
      "8    23\n",
      "9    98\n",
      "dtype: int64\n"
     ]
    }
   ],
   "source": [
    "import pandas as pd\n",
    "s1=pd.Series([11,21,31,41,98,65,34,61,23,98])\n",
    "print('Series object 2:')\n",
    "print(s1)\n",
    "print(s1.head())\n",
    "print(s1.head(7))\n",
    "print(s1.tail())\n",
    "print(s1.tail(7))"
   ]
  },
  {
   "cell_type": "code",
   "execution_count": 23,
   "id": "3170ba9b",
   "metadata": {},
   "outputs": [
    {
     "name": "stdout",
     "output_type": "stream",
     "text": [
      "Series object 2:\n",
      "0    11\n",
      "1    21\n",
      "2    31\n",
      "3    41\n",
      "4    98\n",
      "5    65\n",
      "6    34\n",
      "7    61\n",
      "8    23\n",
      "9    98\n",
      "dtype: int64\n",
      "0     13\n",
      "1     23\n",
      "2     33\n",
      "3     43\n",
      "4    100\n",
      "5     67\n",
      "6     36\n",
      "7     63\n",
      "8     25\n",
      "9    100\n",
      "dtype: int64\n",
      "0     33\n",
      "1     63\n",
      "2     93\n",
      "3    123\n",
      "4    294\n",
      "5    195\n",
      "6    102\n",
      "7    183\n",
      "8     69\n",
      "9    294\n",
      "dtype: int64\n",
      "0    False\n",
      "1     True\n",
      "2     True\n",
      "3     True\n",
      "4     True\n",
      "5     True\n",
      "6     True\n",
      "7     True\n",
      "8     True\n",
      "9     True\n",
      "dtype: bool\n",
      "0     121\n",
      "1     441\n",
      "2     961\n",
      "3    1681\n",
      "4    9604\n",
      "5    4225\n",
      "6    1156\n",
      "7    3721\n",
      "8     529\n",
      "9    9604\n",
      "dtype: int64\n"
     ]
    }
   ],
   "source": [
    "import pandas as pd\n",
    "s1=pd.Series([11,21,31,41,98,65,34,61,23,98])\n",
    "print('Series object 2:')\n",
    "print(s1)\n",
    "print(s1+2)\n",
    "print(s1*3)\n",
    "print(s1>15)\n",
    "print(s1**2)"
   ]
  },
  {
   "cell_type": "code",
   "execution_count": 24,
   "id": "691ceca2",
   "metadata": {},
   "outputs": [
    {
     "name": "stdout",
     "output_type": "stream",
     "text": [
      "0    11\n",
      "1    21\n",
      "2    31\n",
      "3    41\n",
      "4    98\n",
      "5    65\n",
      "6    34\n",
      "7    61\n",
      "8    23\n",
      "9    98\n",
      "dtype: int64\n",
      "0     10\n",
      "1     20\n",
      "2     30\n",
      "3     40\n",
      "4     50\n",
      "5     60\n",
      "6     70\n",
      "7     80\n",
      "8     90\n",
      "9    100\n",
      "dtype: int64\n",
      "0     21\n",
      "1     41\n",
      "2     61\n",
      "3     81\n",
      "4    148\n",
      "5    125\n",
      "6    104\n",
      "7    141\n",
      "8    113\n",
      "9    198\n",
      "dtype: int64\n"
     ]
    }
   ],
   "source": [
    "import pandas as pd\n",
    "s1=pd.Series([11,21,31,41,98,65,34,61,23,98])\n",
    "s2=pd.Series([10,20,30,40,50,60,70,80,90,100])\n",
    "print(s1)\n",
    "print(s2)\n",
    "print(s1+s2)"
   ]
  },
  {
   "cell_type": "code",
   "execution_count": 25,
   "id": "5030c406",
   "metadata": {},
   "outputs": [
    {
     "name": "stdout",
     "output_type": "stream",
     "text": [
      "Total no. of students\n",
      "Commerce     NaN\n",
      "Hindi        NaN\n",
      "Humanities   NaN\n",
      "Maths        NaN\n",
      "Science      NaN\n",
      "english      NaN\n",
      "dtype: float64\n"
     ]
    }
   ],
   "source": [
    "import pandas as pd\n",
    "c11=pd.Series(data=[30,40,50],index=['Science','Commerce','Humanities'])\n",
    "c12=pd.Series(data=[35,45,55],index=['Hindi','Maths','english'])\n",
    "print(\"Total no. of students\")\n",
    "print(c11+c12)\n"
   ]
  },
  {
   "cell_type": "code",
   "execution_count": 26,
   "id": "febd217b",
   "metadata": {},
   "outputs": [
    {
     "name": "stdout",
     "output_type": "stream",
     "text": [
      "Population in four metro cities\n",
      "Delhi       15726342176\n",
      "Mumbai          7386482\n",
      "Sikkim         97382547\n",
      "Jabalpur       97328354\n",
      "dtype: int64\n",
      "avg. income in four metro cities\n",
      "Delhi          9278346\n",
      "Mumbai     96472937487\n",
      "Kolkata      927285398\n",
      "Chennai       38645745\n",
      "dtype: int64\n",
      "per capita  income in four metro cities\n",
      "Chennai              NaN\n",
      "Delhi           0.000590\n",
      "Jabalpur             NaN\n",
      "Kolkata              NaN\n",
      "Mumbai      13060.742243\n",
      "Sikkim               NaN\n",
      "dtype: float64\n"
     ]
    }
   ],
   "source": [
    "import pandas as pd\n",
    "population=pd.Series([15726342176,7386482,97382547,97328354],\n",
    "index=['Delhi','Mumbai','Sikkim','Jabalpur'])\n",
    "avgincome=pd.Series([9278346,96472937487,927285398,38645745],\n",
    "index=['Delhi','Mumbai','Kolkata','Chennai'])\n",
    "perCapita=avgincome/population\n",
    "print('Population in four metro cities')\n",
    "print(population)\n",
    "print(\"avg. income in four metro cities\")\n",
    "print(avgincome)\n",
    "print(\"per capita  income in four metro cities\")\n",
    "print(perCapita)"
   ]
  },
  {
   "cell_type": "code",
   "execution_count": 27,
   "id": "ffae0d4a",
   "metadata": {},
   "outputs": [
    {
     "name": "stdout",
     "output_type": "stream",
     "text": [
      "0    31\n",
      "1    41\n",
      "2    51\n",
      "dtype: int64\n",
      "0    False\n",
      "1     True\n",
      "2     True\n",
      "dtype: bool\n",
      "1    41\n",
      "2    51\n",
      "dtype: int64\n"
     ]
    }
   ],
   "source": [
    "import pandas as pd\n",
    "info=pd.Series(data=[31,41,51])\n",
    "print(info)\n",
    "print(info>40)\n",
    "print(info[info>40])"
   ]
  },
  {
   "cell_type": "code",
   "execution_count": 28,
   "id": "9db1b330",
   "metadata": {},
   "outputs": [
    {
     "name": "stdout",
     "output_type": "stream",
     "text": [
      "Contribution> 5500 by:\n",
      "A    6700\n",
      "B    5600\n",
      "dtype: int64\n"
     ]
    }
   ],
   "source": [
    "import pandas as pd\n",
    "print(\"Contribution> 5500 by:\")\n",
    "print(s11[s11>5500])"
   ]
  },
  {
   "cell_type": "code",
   "execution_count": 31,
   "id": "47b6db97",
   "metadata": {},
   "outputs": [
    {
     "name": "stdout",
     "output_type": "stream",
     "text": [
      "A    39\n",
      "B    41\n",
      "C    42\n",
      "D    44\n",
      "dtype: int64\n",
      "A    39\n",
      "B    41\n",
      "C    42\n",
      "D    44\n",
      "dtype: int64\n",
      "A    39\n",
      "B    41\n",
      "C    42\n",
      "D    44\n",
      "dtype: int64\n"
     ]
    }
   ],
   "source": [
    "import pandas as pd\n",
    "stu={'A':39,'B':41,'C':42,'D':44}\n",
    "s8=pd.Series(stu)\n",
    "s8.sort_values()\n",
    "print(s8)\n",
    "s8.sort_values(ascending=False)\n",
    "print(s8)\n",
    "s8.sort_index()\n",
    "print(s8)"
   ]
  },
  {
   "cell_type": "code",
   "execution_count": 34,
   "id": "dc9763e7",
   "metadata": {},
   "outputs": [
    {
     "name": "stdout",
     "output_type": "stream",
     "text": [
      "e   NaN\n",
      "d   NaN\n",
      "c   NaN\n",
      "b   NaN\n",
      "dtype: float64\n"
     ]
    }
   ],
   "source": [
    "import pandas as pd\n",
    "stu={'A':39,'B':41,'C':42,'D':44}\n",
    "s8=pd.Series(stu)\n",
    "s9=s8.reindex(['e','d','c','b',])\n",
    "print(s9)"
   ]
  },
  {
   "cell_type": "code",
   "execution_count": null,
   "id": "ac7dbfb3",
   "metadata": {},
   "outputs": [],
   "source": []
  },
  {
   "cell_type": "raw",
   "id": "0032fee1",
   "metadata": {},
   "source": []
  },
  {
   "cell_type": "code",
   "execution_count": 39,
   "id": "990dbdb0",
   "metadata": {},
   "outputs": [
    {
     "name": "stdout",
     "output_type": "stream",
     "text": [
      "        yr1    yr2\n",
      "qtr1  34500  44900\n",
      "qtr2  56000  46100\n",
      "qtr3  47000  57000\n",
      "qtr4  49000  59000\n"
     ]
    }
   ],
   "source": [
    "import pandas as pd\n",
    "sales={'yr1':{'qtr1':34500,'qtr2':56000,'qtr3':47000,'qtr4':49000},\n",
    "      'yr2':{'qtr1':44900,'qtr2':46100,'qtr3':57000,'qtr4':59000}}\n",
    "dfsales=pd.DataFrame(sales)\n",
    "print(dfsales)"
   ]
  },
  {
   "cell_type": "code",
   "execution_count": 40,
   "id": "9a5d704e",
   "metadata": {},
   "outputs": [
    {
     "data": {
      "text/plain": [
       "(2, 3)"
      ]
     },
     "execution_count": 40,
     "metadata": {},
     "output_type": "execute_result"
    }
   ],
   "source": [
    "import pandas as pd\n",
    "narr1=np.array([[1,2,3],[4,5,6]],np.int32)\n",
    "narr1.shape\n"
   ]
  },
  {
   "cell_type": "code",
   "execution_count": 1,
   "id": "33b45208",
   "metadata": {},
   "outputs": [
    {
     "name": "stdout",
     "output_type": "stream",
     "text": [
      "    0   1\n",
      "0  11  12\n",
      "1  13  14\n",
      "2  15  16\n"
     ]
    }
   ],
   "source": [
    "import pandas as pd\n",
    "import numpy as np\n",
    "arr1=np.array([[11,12],[13,14],[15,16]],np.int32)\n",
    "dtf2=pd.DataFrame(arr1)\n",
    "print(dtf2)"
   ]
  },
  {
   "cell_type": "code",
   "execution_count": 3,
   "id": "23bdfdec",
   "metadata": {},
   "outputs": [
    {
     "name": "stdout",
     "output_type": "stream",
     "text": [
      "   0  1  2\n",
      "0  1  2  3\n",
      "1  4  5  6\n"
     ]
    }
   ],
   "source": [
    "narr1=np.array([[1,2,3],[4,5,6]],np.int32)\n",
    "narr1.shape\n",
    "dtf1=pd.DataFrame(narr1)\n",
    "print(dtf1)"
   ]
  },
  {
   "cell_type": "code",
   "execution_count": 9,
   "id": "c150b305",
   "metadata": {},
   "outputs": [
    {
     "name": "stdout",
     "output_type": "stream",
     "text": [
      "   First  Second  Third\n",
      "A   11.5    21.2   33.8\n",
      "B   40.0    50.0   60.0\n",
      "C  212.3   301.5  405.2\n",
      "[list([101.5, 201.5]) list([400, 500, 600, 700])\n",
      " list([212.3, 301.5, 405.2])]\n"
     ]
    },
    {
     "name": "stderr",
     "output_type": "stream",
     "text": [
      "C:\\Users\\kush\\AppData\\Local\\Temp/ipykernel_15364/2238751582.py:4: VisibleDeprecationWarning: Creating an ndarray from ragged nested sequences (which is a list-or-tuple of lists-or-tuples-or ndarrays with different lengths or shapes) is deprecated. If you meant to do this, you must specify 'dtype=object' when creating the ndarray.\n",
      "  narr3=np.array([[101.5,201.5],[400,500,600,700],[212.3,301.5,405.2]])\n"
     ]
    }
   ],
   "source": [
    "narr2=np.array([[11.5,21.2,33.8],[40,50,60],[212.3,301.5,405.2]])\n",
    "dtf3=pd.DataFrame(narr2,columns=['First','Second','Third'],index=['A','B','C'])\n",
    "print(dtf3)\n",
    "narr3=np.array([[101.5,201.5],[400,500,600,700],[212.3,301.5,405.2]])\n",
    "print(narr3)"
   ]
  },
  {
   "cell_type": "code",
   "execution_count": 11,
   "id": "3ec5a90d",
   "metadata": {},
   "outputs": [
    {
     "name": "stdout",
     "output_type": "stream",
     "text": [
      "   people  Amount\n",
      "0      20  166000\n",
      "1      36  246000\n",
      "2      44  563000\n"
     ]
    }
   ],
   "source": [
    "staff=pd.Series([20,36,44])\n",
    "salaries=pd.Series([166000,246000,563000])\n",
    "school={'people':staff,'Amount':salaries}\n",
    "dtf4=pd.DataFrame(school)\n",
    "print(dtf4)"
   ]
  },
  {
   "cell_type": "code",
   "execution_count": 15,
   "id": "bc30a188",
   "metadata": {},
   "outputs": [
    {
     "name": "stdout",
     "output_type": "stream",
     "text": [
      "   First  Second  Third\n",
      "A   11.5    21.2   33.8\n",
      "B   40.0    50.0   60.0\n",
      "C  212.3   301.5  405.2\n",
      "[list([101.5, 201.5]) list([400, 500, 600, 700])\n",
      " list([212.3, 301.5, 405.2])]\n",
      "Index(['A', 'B', 'C'], dtype='object')\n",
      "Index(['First', 'Second', 'Third'], dtype='object')\n",
      "[Index(['A', 'B', 'C'], dtype='object'), Index(['First', 'Second', 'Third'], dtype='object')]\n",
      "First     float64\n",
      "Second    float64\n",
      "Third     float64\n",
      "dtype: object\n",
      "9\n",
      "(3, 3)\n",
      "2\n",
      "False\n"
     ]
    },
    {
     "name": "stderr",
     "output_type": "stream",
     "text": [
      "C:\\Users\\kush\\AppData\\Local\\Temp/ipykernel_15364/1826759937.py:4: VisibleDeprecationWarning: Creating an ndarray from ragged nested sequences (which is a list-or-tuple of lists-or-tuples-or ndarrays with different lengths or shapes) is deprecated. If you meant to do this, you must specify 'dtype=object' when creating the ndarray.\n",
      "  narr3=np.array([[101.5,201.5],[400,500,600,700],[212.3,301.5,405.2]])\n"
     ]
    }
   ],
   "source": [
    "narr2=np.array([[11.5,21.2,33.8],[40,50,60],[212.3,301.5,405.2]])\n",
    "dtf3=pd.DataFrame(narr2,columns=['First','Second','Third'],index=['A','B','C'])\n",
    "print(dtf3)\n",
    "narr3=np.array([[101.5,201.5],[400,500,600,700],[212.3,301.5,405.2]])\n",
    "print(narr3)\n",
    "print(dtf3.index)\n",
    "print(dtf3.columns)\n",
    "print(dtf3.axes)\n",
    "print(dtf3.dtypes)\n",
    "print(dtf3.size)\n",
    "print(dtf3.shape)\n",
    "print(dtf3.ndim)\n",
    "print(dtf3.empty)"
   ]
  },
  {
   "cell_type": "code",
   "execution_count": 18,
   "id": "247c0420",
   "metadata": {},
   "outputs": [
    {
     "name": "stdout",
     "output_type": "stream",
     "text": [
      "   First  Second  Third\n",
      "A   11.5    21.2   33.8\n",
      "B   40.0    50.0   60.0\n",
      "C  212.3   301.5  405.2\n",
      "[list([101.5, 201.5]) list([400, 500, 600, 700])\n",
      " list([212.3, 301.5, 405.2])]\n",
      "<bound method DataFrame.count of    First  Second  Third\n",
      "A   11.5    21.2   33.8\n",
      "B   40.0    50.0   60.0\n",
      "C  212.3   301.5  405.2>\n",
      "First     3\n",
      "Second    3\n",
      "Third     3\n",
      "dtype: int64\n",
      "A    3\n",
      "B    3\n",
      "C    3\n",
      "dtype: int64\n",
      "A    3\n",
      "B    3\n",
      "C    3\n",
      "dtype: int64\n"
     ]
    },
    {
     "name": "stderr",
     "output_type": "stream",
     "text": [
      "C:\\Users\\kush\\AppData\\Local\\Temp/ipykernel_15364/2793737807.py:4: VisibleDeprecationWarning: Creating an ndarray from ragged nested sequences (which is a list-or-tuple of lists-or-tuples-or ndarrays with different lengths or shapes) is deprecated. If you meant to do this, you must specify 'dtype=object' when creating the ndarray.\n",
      "  narr3=np.array([[101.5,201.5],[400,500,600,700],[212.3,301.5,405.2]])\n"
     ]
    }
   ],
   "source": [
    "narr2=np.array([[11.5,21.2,33.8],[40,50,60],[212.3,301.5,405.2]])\n",
    "dtf3=pd.DataFrame(narr2,columns=['First','Second','Third'],index=['A','B','C'])\n",
    "print(dtf3)\n",
    "narr3=np.array([[101.5,201.5],[400,500,600,700],[212.3,301.5,405.2]])\n",
    "print(narr3)\n",
    "print(dtf3.count)\n",
    "print(dtf3.count(axis='index'))\n",
    "print(dtf3.count(1))\n",
    "print(dtf3.count(axis='columns'))"
   ]
  },
  {
   "cell_type": "code",
   "execution_count": 20,
   "id": "3ec0eaf9",
   "metadata": {},
   "outputs": [
    {
     "name": "stdout",
     "output_type": "stream",
     "text": [
      "original dataframe\n",
      "   Weight     Name  Age\n",
      "0      42    Arnav   15\n",
      "1      75  Charles   22\n",
      "2      66     Guru   35\n",
      "Transpose\n",
      "            0        1     2\n",
      "Weight     42       75    66\n",
      "Name    Arnav  Charles  Guru\n",
      "Age        15       22    35\n"
     ]
    }
   ],
   "source": [
    "import pandas as pd\n",
    "df=pd.DataFrame({'Weight':[42,75,66],'Name':['Arnav','Charles','Guru'],\n",
    "                                     'Age':[15,22,35]})\n",
    "print('original dataframe')\n",
    "print(df)\n",
    "print('Transpose')\n",
    "print(df.T)"
   ]
  },
  {
   "cell_type": "code",
   "execution_count": 25,
   "id": "9c84f357",
   "metadata": {},
   "outputs": [
    {
     "name": "stdout",
     "output_type": "stream",
     "text": [
      "   First  Second  Third\n",
      "A   11.5    21.2   33.8\n",
      "B   40.0    50.0   60.0\n",
      "C  212.3   301.5  405.2\n",
      "[[ 11.5  21.2  33.8]\n",
      " [ 40.   50.   60. ]\n",
      " [212.3 301.5 405.2]]\n"
     ]
    },
    {
     "name": "stderr",
     "output_type": "stream",
     "text": [
      "C:\\Users\\kush\\AppData\\Local\\Temp/ipykernel_15364/1589798360.py:4: VisibleDeprecationWarning: Creating an ndarray from ragged nested sequences (which is a list-or-tuple of lists-or-tuples-or ndarrays with different lengths or shapes) is deprecated. If you meant to do this, you must specify 'dtype=object' when creating the ndarray.\n",
      "  narr3=np.array([[101.5,201.5],[400,500,600,700],[212.3,301.5,405.2]])\n"
     ]
    }
   ],
   "source": [
    "narr2=np.array([[11.5,21.2,33.8],[40,50,60],[212.3,301.5,405.2]])\n",
    "dtf3=pd.DataFrame(narr2,columns=['First','Second','Third'],index=['A','B','C'])\n",
    "print(dtf3)\n",
    "narr3=np.array([[101.5,201.5],[400,500,600,700],[212.3,301.5,405.2]])\n",
    "print(dtf3.values)//numpy representation"
   ]
  },
  {
   "cell_type": "code",
   "execution_count": 27,
   "id": "d90c4bb9",
   "metadata": {},
   "outputs": [
    {
     "name": "stdout",
     "output_type": "stream",
     "text": [
      "   First  Second  Third\n",
      "A   11.5    21.2   33.8\n",
      "B   40.0    50.0   60.0\n",
      "C  212.3   301.5  405.2\n",
      "A     11.5\n",
      "B     40.0\n",
      "C    212.3\n",
      "Name: First, dtype: float64\n",
      "A     11.5\n",
      "B     40.0\n",
      "C    212.3\n",
      "Name: First, dtype: float64\n"
     ]
    },
    {
     "name": "stderr",
     "output_type": "stream",
     "text": [
      "C:\\Users\\kush\\AppData\\Local\\Temp/ipykernel_15364/3078717099.py:4: VisibleDeprecationWarning: Creating an ndarray from ragged nested sequences (which is a list-or-tuple of lists-or-tuples-or ndarrays with different lengths or shapes) is deprecated. If you meant to do this, you must specify 'dtype=object' when creating the ndarray.\n",
      "  narr3=np.array([[101.5,201.5],[400,500,600,700],[212.3,301.5,405.2]])\n"
     ]
    }
   ],
   "source": [
    "narr2=np.array([[11.5,21.2,33.8],[40,50,60],[212.3,301.5,405.2]])\n",
    "dtf3=pd.DataFrame(narr2,columns=['First','Second','Third'],index=['A','B','C'])\n",
    "print(dtf3)\n",
    "narr3=np.array([[101.5,201.5],[400,500,600,700],[212.3,301.5,405.2]])\n",
    "print(dtf3['First'])\n",
    "print(dtf3.First)"
   ]
  },
  {
   "cell_type": "code",
   "execution_count": 30,
   "id": "0684ce29",
   "metadata": {},
   "outputs": [
    {
     "name": "stdout",
     "output_type": "stream",
     "text": [
      "   First  Second  Third\n",
      "A   11.5    21.2   33.8\n",
      "B   40.0    50.0   60.0\n",
      "C  212.3   301.5  405.2\n",
      "   First  Second\n",
      "A   11.5    21.2\n",
      "B   40.0    50.0\n",
      "C  212.3   301.5\n",
      "   Second  First\n",
      "A    21.2   11.5\n",
      "B    50.0   40.0\n",
      "C   301.5  212.3\n"
     ]
    },
    {
     "name": "stderr",
     "output_type": "stream",
     "text": [
      "C:\\Users\\kush\\AppData\\Local\\Temp/ipykernel_15364/347114243.py:4: VisibleDeprecationWarning: Creating an ndarray from ragged nested sequences (which is a list-or-tuple of lists-or-tuples-or ndarrays with different lengths or shapes) is deprecated. If you meant to do this, you must specify 'dtype=object' when creating the ndarray.\n",
      "  narr3=np.array([[101.5,201.5],[400,500,600,700],[212.3,301.5,405.2]])\n"
     ]
    }
   ],
   "source": [
    "narr2=np.array([[11.5,21.2,33.8],[40,50,60],[212.3,301.5,405.2]])\n",
    "dtf3=pd.DataFrame(narr2,columns=['First','Second','Third'],index=['A','B','C'])\n",
    "print(dtf3)\n",
    "narr3=np.array([[101.5,201.5],[400,500,600,700],[212.3,301.5,405.2]])\n",
    "print(dtf3[['First','Second']])\n",
    "print(dtf3[['Second','First']])"
   ]
  },
  {
   "cell_type": "code",
   "execution_count": 38,
   "id": "8c1eacdd",
   "metadata": {},
   "outputs": [
    {
     "name": "stdout",
     "output_type": "stream",
     "text": [
      "   First  Second  Third\n",
      "A   11.5    21.2   33.8\n",
      "B   40.0    50.0   60.0\n",
      "C  212.3   301.5  405.2\n",
      "First     11.5\n",
      "Second    21.2\n",
      "Third     33.8\n",
      "Name: A, dtype: float64\n",
      "   First  Second  Third\n",
      "A   11.5    21.2   33.8\n",
      "B   40.0    50.0   60.0\n",
      "   First  Second  Third\n",
      "A   11.5    21.2   33.8\n",
      "B   40.0    50.0   60.0\n",
      "C  212.3   301.5  405.2\n",
      "Empty DataFrame\n",
      "Columns: []\n",
      "Index: [A, B, C]\n"
     ]
    },
    {
     "name": "stderr",
     "output_type": "stream",
     "text": [
      "C:\\Users\\kush\\AppData\\Local\\Temp/ipykernel_15364/2716900661.py:4: VisibleDeprecationWarning: Creating an ndarray from ragged nested sequences (which is a list-or-tuple of lists-or-tuples-or ndarrays with different lengths or shapes) is deprecated. If you meant to do this, you must specify 'dtype=object' when creating the ndarray.\n",
      "  narr3=np.array([[101.5,201.5],[400,500,600,700],[212.3,301.5,405.2]])\n"
     ]
    }
   ],
   "source": [
    "narr2=np.array([[11.5,21.2,33.8],[40,50,60],[212.3,301.5,405.2]])\n",
    "dtf3=pd.DataFrame(narr2,columns=['First','Second','Third'],index=['A','B','C'])\n",
    "print(dtf3)\n",
    "narr3=np.array([[101.5,201.5],[400,500,600,700],[212.3,301.5,405.2]])\n",
    "print(dtf3.loc['A',:])\n",
    "print(dtf3.loc['A':'B',:])\n",
    "print(dtf3.loc['A':'C',:])"
   ]
  },
  {
   "cell_type": "code",
   "execution_count": 15,
   "id": "612458ea",
   "metadata": {},
   "outputs": [
    {
     "name": "stdout",
     "output_type": "stream",
     "text": [
      "        yr1    yr2\n",
      "qtr1  34500  44900\n",
      "qtr2  56000  46100\n",
      "qtr3  47000  57000\n",
      "qtr4  49000  59000\n",
      "        yr2\n",
      "qtr1  44900\n",
      "qtr2  46100\n",
      "56000\n",
      "46100\n"
     ]
    }
   ],
   "source": [
    "import pandas as pd\n",
    "Sales={'yr1':{'qtr1':34500,'qtr2':56000,'qtr3':47000,'qtr4':49000},\n",
    "      'yr2':{'qtr1':44900,'qtr2':46100,'qtr3':57000,'qtr4':59000}}\n",
    "dfsales=pd.DataFrame(Sales)\n",
    "print(dfsales)\n",
    "print(dfsales.iloc[0:2,1:3])\n",
    "print(dfsales.yr1['qtr2'])\n",
    "print(dfsales.iat[1,1])"
   ]
  },
  {
   "cell_type": "code",
   "execution_count": 19,
   "id": "b344cb69",
   "metadata": {},
   "outputs": [
    {
     "name": "stdout",
     "output_type": "stream",
     "text": [
      "        yr1    yr2\n",
      "qtr1  34500  44900\n",
      "qtr2  56000  46100\n",
      "qtr3  47000  57000\n",
      "qtr4  49000  59000\n",
      "        yr1\n",
      "qtr1  34500\n",
      "qtr2  56000\n",
      "qtr3  47000\n",
      "qtr4  49000\n"
     ]
    }
   ],
   "source": [
    "import pandas as pd\n",
    "Sales={'yr1':{'qtr1':34500,'qtr2':56000,'qtr3':47000,'qtr4':49000},\n",
    "      'yr2':{'qtr1':44900,'qtr2':46100,'qtr3':57000,'qtr4':59000}}\n",
    "dfsales=pd.DataFrame(Sales)\n",
    "print(dfsales)\n",
    "del dfsales['yr2']\n",
    "print(dfsales)"
   ]
  },
  {
   "cell_type": "code",
   "execution_count": 25,
   "id": "53314ac1",
   "metadata": {},
   "outputs": [
    {
     "name": "stdout",
     "output_type": "stream",
     "text": [
      "        yr1    yr2\n",
      "qtr1  34500  44900\n",
      "qtr2  56000  46100\n",
      "qtr3  47000  57000\n",
      "qtr4  49000  59000\n"
     ]
    }
   ],
   "source": [
    "import pandas as pd\n",
    "Sales={'yr1':{'qtr1':34500,'qtr2':56000,'qtr3':47000,'qtr4':49000},\n",
    "      'yr2':{'qtr1':44900,'qtr2':46100,'qtr3':57000,'qtr4':59000}}\n",
    "dfsales=pd.DataFrame(Sales)\n",
    "print(dfsales)"
   ]
  },
  {
   "cell_type": "code",
   "execution_count": 26,
   "id": "2f1d3802",
   "metadata": {},
   "outputs": [
    {
     "name": "stdout",
     "output_type": "stream",
     "text": [
      "        yr2\n",
      "qtr1  44900\n",
      "qtr2  46100\n",
      "qtr4  59000\n"
     ]
    }
   ],
   "source": [
    "import pandas as pd\n",
    "dfsales=pd.DataFrame(dfsales)\n",
    "del dfsales['yr1']\n",
    "dfsales=dfsales.drop(['qtr3'])\n",
    "print(dfsales)"
   ]
  },
  {
   "cell_type": "code",
   "execution_count": 27,
   "id": "d44d8152",
   "metadata": {},
   "outputs": [
    {
     "name": "stdout",
     "output_type": "stream",
     "text": [
      "row index: qtr1\n",
      "containing:\n",
      "At 0 position: 34500.0\n",
      "At 1 position: 44900.0\n",
      "At 2 position: 54500.0\n",
      "row index: qtr2\n",
      "containing:\n",
      "At 0 position: 56000.0\n",
      "At 1 position: 46100.0\n",
      "At 2 position: 46100.0\n",
      "row index: qtr3\n",
      "containing:\n",
      "At 0 position: 47000.0\n",
      "At 1 position: 57000.0\n",
      "At 2 position: 57000.0\n",
      "row index: qtr4\n",
      "containing:\n",
      "At 0 position: 49000.0\n",
      "At 1 position: 59000.0\n",
      "At 2 position: nan\n",
      "row index: qtr\n",
      "containing:\n",
      "At 0 position: nan\n",
      "At 1 position: nan\n",
      "At 2 position: 58500.0\n"
     ]
    }
   ],
   "source": [
    "import pandas as pd\n",
    "disales={'yr1':{'qtr1':34500,'qtr2':56000,'qtr3':47000,'qtr4':49000},\n",
    "         'yr2':{'qtr1':44900,'qtr2':46100,'qtr3':57000,'qtr4':59000},\n",
    "         'yr3':{'qtr1':54500,'qtr2':46100,'qtr3':57000,'qtr':58500}}\n",
    "df1=pd.DataFrame(disales)\n",
    "for (row,rowSeries) in df1.iterrows():\n",
    "    print(\"row index:\",row)\n",
    "    print(\"containing:\")\n",
    "    i=0\n",
    "    for val in rowSeries:\n",
    "        print(\"At\",i,\"position:\",val)\n",
    "        i=i+1\n",
    "         "
   ]
  },
  {
   "cell_type": "code",
   "execution_count": 29,
   "id": "8329265a",
   "metadata": {},
   "outputs": [
    {
     "name": "stdout",
     "output_type": "stream",
     "text": [
      "col index: yr1\n",
      "containing:\n",
      "qtr1    34500.0\n",
      "qtr2    56000.0\n",
      "qtr3    47000.0\n",
      "qtr4    49000.0\n",
      "qtr         NaN\n",
      "Name: yr1, dtype: float64\n",
      "col index: yr2\n",
      "containing:\n",
      "qtr1    44900.0\n",
      "qtr2    46100.0\n",
      "qtr3    57000.0\n",
      "qtr4    59000.0\n",
      "qtr         NaN\n",
      "Name: yr2, dtype: float64\n",
      "col index: yr3\n",
      "containing:\n",
      "qtr1    54500.0\n",
      "qtr2    46100.0\n",
      "qtr3    57000.0\n",
      "qtr4        NaN\n",
      "qtr     58500.0\n",
      "Name: yr3, dtype: float64\n"
     ]
    }
   ],
   "source": [
    "import pandas as pd\n",
    "disales={'yr1':{'qtr1':34500,'qtr2':56000,'qtr3':47000,'qtr4':49000},\n",
    "         'yr2':{'qtr1':44900,'qtr2':46100,'qtr3':57000,'qtr4':59000},\n",
    "         'yr3':{'qtr1':54500,'qtr2':46100,'qtr3':57000,'qtr':58500}}\n",
    "df1=pd.DataFrame(disales)\n",
    "for (col,colSeries) in df1.iteritems():\n",
    "    print(\"col index:\",col)\n",
    "    print(\"containing:\")\n",
    "    print(colSeries)"
   ]
  },
  {
   "cell_type": "code",
   "execution_count": 32,
   "id": "20b6eb83",
   "metadata": {},
   "outputs": [
    {
     "name": "stdout",
     "output_type": "stream",
     "text": [
      "Name     Ram\n",
      "Marks     70\n",
      "Name: Rno.1, dtype: object\n",
      "----------------\n",
      "Name     Pam\n",
      "Marks     95\n",
      "Name: Rno.2, dtype: object\n",
      "----------------\n",
      "Name     Sam\n",
      "Marks     80\n",
      "Name: Rno.3, dtype: object\n",
      "----------------\n"
     ]
    }
   ],
   "source": [
    "import pandas as pd\n",
    "dict={'Name':[\"Ram\",\"Pam\",\"Sam\"],\n",
    "     'Marks':[70,95,80]}\n",
    "df=pd.DataFrame(dict,index=['Rno.1','Rno.2','Rno.3'])\n",
    "for i,j in df.iterrows():\n",
    "    print(j)\n",
    "    print(\"----------------\")"
   ]
  },
  {
   "cell_type": "code",
   "execution_count": 33,
   "id": "a8edc106",
   "metadata": {},
   "outputs": [
    {
     "name": "stdout",
     "output_type": "stream",
     "text": [
      "Rno.1    Ram\n",
      "Rno.2    Pam\n",
      "Rno.3    Sam\n",
      "Name: Name, dtype: object\n",
      "----------------\n",
      "Rno.1    70\n",
      "Rno.2    95\n",
      "Rno.3    80\n",
      "Name: Marks, dtype: int64\n",
      "----------------\n"
     ]
    }
   ],
   "source": [
    "import pandas as pd\n",
    "dict={'Name':[\"Ram\",\"Pam\",\"Sam\"],\n",
    "     'Marks':[70,95,80]}\n",
    "df=pd.DataFrame(dict,index=['Rno.1','Rno.2','Rno.3'])\n",
    "for i,j in df.iteritems():\n",
    "    print(j)\n",
    "    print(\"----------------\")"
   ]
  },
  {
   "cell_type": "code",
   "execution_count": 34,
   "id": "f6f07b4e",
   "metadata": {},
   "outputs": [
    {
     "name": "stdout",
     "output_type": "stream",
     "text": [
      "70\n",
      "---------\n",
      "95\n",
      "---------\n",
      "80\n",
      "---------\n"
     ]
    }
   ],
   "source": [
    "import pandas as pd\n",
    "dict={'Name':[\"Ram\",\"Pam\",\"Sam\"],\n",
    "     'Marks':[70,95,80]}\n",
    "df=pd.DataFrame(dict,index=['Rno.1','Rno.2','Rno.3'])\n",
    "for r,row in df.iterrows():\n",
    "    print(row['Marks'])\n",
    "    print(\"---------\")"
   ]
  },
  {
   "cell_type": "code",
   "execution_count": 36,
   "id": "b54ee71f",
   "metadata": {},
   "outputs": [
    {
     "name": "stdout",
     "output_type": "stream",
     "text": [
      "   Sales  Marketing\n",
      "1     13         87\n",
      "2     78         98\n",
      "3     23         20\n",
      "   Sales  Marketing\n",
      "1     76         65\n",
      "2    457         12\n",
      "3     87         54\n"
     ]
    }
   ],
   "source": [
    "people={'Sales':{1:13,2:78,3:23},\n",
    "        'Marketing':{1:87,2:98,3:20}}\n",
    "df=pd.DataFrame(people)\n",
    "print(df)\n",
    "people={'Sales':{1:76,2:457,3:87},\n",
    "        'Marketing':{1:65,2:12,3:54}}\n",
    "df=pd.DataFrame(people)\n",
    "print(df)"
   ]
  },
  {
   "cell_type": "code",
   "execution_count": 38,
   "id": "b7b0fa31",
   "metadata": {},
   "outputs": [
    {
     "name": "stdout",
     "output_type": "stream",
     "text": [
      "   Sales  Marketing\n",
      "1     13         87\n",
      "2     78         98\n",
      "3     23         20\n",
      "   Sales  Marketing\n",
      "1     76         65\n",
      "2    457         12\n",
      "3     87         54\n",
      "   Sales  Marketing\n",
      "1     89        152\n",
      "2    535        110\n",
      "3    110         74\n"
     ]
    }
   ],
   "source": [
    "people={'Sales':{1:13,2:78,3:23},\n",
    "        'Marketing':{1:87,2:98,3:20}}\n",
    "df1=pd.DataFrame(people)\n",
    "print(df1)\n",
    "people={'Sales':{1:76,2:457,3:87},\n",
    "        'Marketing':{1:65,2:12,3:54}}\n",
    "df2=pd.DataFrame(people)\n",
    "print(df2)\n",
    "df3=df1+df2\n",
    "print(df3)"
   ]
  },
  {
   "cell_type": "code",
   "execution_count": 39,
   "id": "7c9cd894",
   "metadata": {},
   "outputs": [
    {
     "name": "stdout",
     "output_type": "stream",
     "text": [
      "   Sales  Marketing\n",
      "1     13         87\n",
      "2     78         98\n",
      "3     23         20\n",
      "   Sales  Marketing\n",
      "1     76         65\n",
      "2    457         12\n",
      "   Sales  Marketing\n",
      "1   89.0      152.0\n",
      "2  535.0      110.0\n",
      "3    NaN        NaN\n"
     ]
    }
   ],
   "source": [
    "people={'Sales':{1:13,2:78,3:23},\n",
    "        'Marketing':{1:87,2:98,3:20}}\n",
    "df1=pd.DataFrame(people)\n",
    "print(df1)\n",
    "people={'Sales':{1:76,2:457,},\n",
    "        'Marketing':{1:65,2:12,}}\n",
    "df2=pd.DataFrame(people)\n",
    "print(df2)\n",
    "df3=df1+df2\n",
    "print(df3)"
   ]
  },
  {
   "cell_type": "code",
   "execution_count": 40,
   "id": "dcaa78e7",
   "metadata": {},
   "outputs": [
    {
     "name": "stdout",
     "output_type": "stream",
     "text": [
      "   Sales  Marketing\n",
      "1     13         87\n",
      "2     78         98\n",
      "3     23         20\n",
      "   Sales  Marketing\n",
      "1     76         65\n",
      "2    457         12\n",
      "3     87         54\n",
      "   Sales  Marketing\n",
      "1     89        152\n",
      "2    535        110\n",
      "3    110         74\n"
     ]
    }
   ],
   "source": [
    "people={'Sales':{1:13,2:78,3:23},\n",
    "        'Marketing':{1:87,2:98,3:20}}\n",
    "df1=pd.DataFrame(people)\n",
    "print(df1)\n",
    "people={'Sales':{1:76,2:457,3:87},\n",
    "        'Marketing':{1:65,2:12,3:54}}\n",
    "df2=pd.DataFrame(people)\n",
    "print(df2)\n",
    "print(df1.add(df2))"
   ]
  },
  {
   "cell_type": "code",
   "execution_count": 41,
   "id": "909e0dbc",
   "metadata": {},
   "outputs": [
    {
     "name": "stdout",
     "output_type": "stream",
     "text": [
      "   Sales  Marketing\n",
      "1     13         87\n",
      "2     78         98\n",
      "3     23         20\n",
      "   Sales  Marketing\n",
      "1     76         65\n",
      "2    457         12\n",
      "3     87         54\n",
      "   Sales  Marketing\n",
      "1     89        152\n",
      "2    535        110\n",
      "3    110         74\n"
     ]
    }
   ],
   "source": [
    "people={'Sales':{1:13,2:78,3:23},\n",
    "        'Marketing':{1:87,2:98,3:20}}\n",
    "df1=pd.DataFrame(people)\n",
    "print(df1)\n",
    "people={'Sales':{1:76,2:457,3:87},\n",
    "        'Marketing':{1:65,2:12,3:54}}\n",
    "df2=pd.DataFrame(people)\n",
    "print(df2)\n",
    "print(df1.radd(df2))"
   ]
  },
  {
   "cell_type": "code",
   "execution_count": 42,
   "id": "50e3a9d5",
   "metadata": {},
   "outputs": [
    {
     "name": "stdout",
     "output_type": "stream",
     "text": [
      "   Sales  Marketing\n",
      "1     13         87\n",
      "2     78         98\n",
      "3     23         20\n",
      "   Sales  Marketing\n",
      "1     76         65\n",
      "2    457         12\n",
      "3     87         54\n",
      "   Sales  Marketing\n",
      "1    -63         22\n",
      "2   -379         86\n",
      "3    -64        -34\n"
     ]
    }
   ],
   "source": [
    "people={'Sales':{1:13,2:78,3:23},\n",
    "        'Marketing':{1:87,2:98,3:20}}\n",
    "df1=pd.DataFrame(people)\n",
    "print(df1)\n",
    "people={'Sales':{1:76,2:457,3:87},\n",
    "        'Marketing':{1:65,2:12,3:54}}\n",
    "df2=pd.DataFrame(people)\n",
    "print(df2)\n",
    "df3=df1-df2\n",
    "print(df3)"
   ]
  },
  {
   "cell_type": "code",
   "execution_count": 43,
   "id": "9568af96",
   "metadata": {},
   "outputs": [
    {
     "name": "stdout",
     "output_type": "stream",
     "text": [
      "   Sales  Marketing\n",
      "1     13         87\n",
      "2     78         98\n",
      "3     23         20\n",
      "   Sales  Marketing\n",
      "1     76         65\n",
      "2    457         12\n",
      "   Sales  Marketing\n",
      "1  -63.0       22.0\n",
      "2 -379.0       86.0\n",
      "3    NaN        NaN\n"
     ]
    }
   ],
   "source": [
    "people={'Sales':{1:13,2:78,3:23},\n",
    "        'Marketing':{1:87,2:98,3:20}}\n",
    "df1=pd.DataFrame(people)\n",
    "print(df1)\n",
    "people={'Sales':{1:76,2:457,},\n",
    "        'Marketing':{1:65,2:12,}}\n",
    "df2=pd.DataFrame(people)\n",
    "print(df2)\n",
    "df3=df1-df2\n",
    "print(df3)"
   ]
  },
  {
   "cell_type": "code",
   "execution_count": 44,
   "id": "067f07b8",
   "metadata": {},
   "outputs": [
    {
     "name": "stdout",
     "output_type": "stream",
     "text": [
      "   Sales  Marketing\n",
      "1     13         87\n",
      "2     78         98\n",
      "3     23         20\n",
      "   Sales  Marketing\n",
      "1     76         65\n",
      "2    457         12\n",
      "   Sales  Marketing\n",
      "1  -63.0       22.0\n",
      "2 -379.0       86.0\n",
      "3    NaN        NaN\n"
     ]
    }
   ],
   "source": [
    "people={'Sales':{1:13,2:78,3:23},\n",
    "        'Marketing':{1:87,2:98,3:20}}\n",
    "df1=pd.DataFrame(people)\n",
    "print(df1)\n",
    "people={'Sales':{1:76,2:457,},\n",
    "        'Marketing':{1:65,2:12,}}\n",
    "df2=pd.DataFrame(people)\n",
    "print(df2)\n",
    "print(df1.sub(df2))"
   ]
  },
  {
   "cell_type": "code",
   "execution_count": 45,
   "id": "80c1dcf6",
   "metadata": {},
   "outputs": [
    {
     "name": "stdout",
     "output_type": "stream",
     "text": [
      "   Sales  Marketing\n",
      "1     13         87\n",
      "2     78         98\n",
      "3     23         20\n",
      "   Sales  Marketing\n",
      "1     76         65\n",
      "2    457         12\n",
      "   Sales  Marketing\n",
      "1   63.0      -22.0\n",
      "2  379.0      -86.0\n",
      "3    NaN        NaN\n"
     ]
    }
   ],
   "source": [
    "people={'Sales':{1:13,2:78,3:23},\n",
    "        'Marketing':{1:87,2:98,3:20}}\n",
    "df1=pd.DataFrame(people)\n",
    "print(df1)\n",
    "people={'Sales':{1:76,2:457,},\n",
    "        'Marketing':{1:65,2:12,}}\n",
    "df2=pd.DataFrame(people)\n",
    "print(df2)\n",
    "print(df1.rsub(df2))"
   ]
  },
  {
   "cell_type": "code",
   "execution_count": 46,
   "id": "f2239807",
   "metadata": {},
   "outputs": [
    {
     "name": "stdout",
     "output_type": "stream",
     "text": [
      "   Sales  Marketing\n",
      "1     13         87\n",
      "2     78         98\n",
      "3     23         20\n",
      "   Sales  Marketing\n",
      "1     76         65\n",
      "2    457         12\n",
      "     Sales  Marketing\n",
      "1    988.0     5655.0\n",
      "2  35646.0     1176.0\n",
      "3      NaN        NaN\n"
     ]
    }
   ],
   "source": [
    "people={'Sales':{1:13,2:78,3:23},\n",
    "        'Marketing':{1:87,2:98,3:20}}\n",
    "df1=pd.DataFrame(people)\n",
    "print(df1)\n",
    "people={'Sales':{1:76,2:457,},\n",
    "        'Marketing':{1:65,2:12,}}\n",
    "df2=pd.DataFrame(people)\n",
    "print(df2)\n",
    "df3=df1*df2\n",
    "print(df3)"
   ]
  },
  {
   "cell_type": "code",
   "execution_count": 47,
   "id": "4b44067a",
   "metadata": {},
   "outputs": [
    {
     "name": "stdout",
     "output_type": "stream",
     "text": [
      "   Sales  Marketing\n",
      "1     13         87\n",
      "2     78         98\n",
      "3     23         20\n",
      "   Sales  Marketing\n",
      "1     76         65\n",
      "2    457         12\n",
      "     Sales  Marketing\n",
      "1    988.0     5655.0\n",
      "2  35646.0     1176.0\n",
      "3      NaN        NaN\n"
     ]
    }
   ],
   "source": [
    "people={'Sales':{1:13,2:78,3:23},\n",
    "        'Marketing':{1:87,2:98,3:20}}\n",
    "df1=pd.DataFrame(people)\n",
    "print(df1)\n",
    "people={'Sales':{1:76,2:457,},\n",
    "        'Marketing':{1:65,2:12,}}\n",
    "df2=pd.DataFrame(people)\n",
    "print(df2)\n",
    "print(df1.mul(df2))"
   ]
  },
  {
   "cell_type": "code",
   "execution_count": 48,
   "id": "0c1f95f4",
   "metadata": {},
   "outputs": [
    {
     "name": "stdout",
     "output_type": "stream",
     "text": [
      "   Sales  Marketing\n",
      "1     13         87\n",
      "2     78         98\n",
      "3     23         20\n",
      "   Sales  Marketing\n",
      "1     76         65\n",
      "2    457         12\n",
      "      Sales  Marketing\n",
      "1  0.171053   1.338462\n",
      "2  0.170678   8.166667\n",
      "3       NaN        NaN\n"
     ]
    }
   ],
   "source": [
    "people={'Sales':{1:13,2:78,3:23},\n",
    "        'Marketing':{1:87,2:98,3:20}}\n",
    "df1=pd.DataFrame(people)\n",
    "print(df1)\n",
    "people={'Sales':{1:76,2:457,},\n",
    "        'Marketing':{1:65,2:12,}}\n",
    "df2=pd.DataFrame(people)\n",
    "print(df2)\n",
    "df3=df1/df2\n",
    "print(df3)"
   ]
  },
  {
   "cell_type": "code",
   "execution_count": 49,
   "id": "2f4e5e67",
   "metadata": {},
   "outputs": [
    {
     "name": "stdout",
     "output_type": "stream",
     "text": [
      "   Sales  Marketing\n",
      "1     13         87\n",
      "2     78         98\n",
      "3     23         20\n",
      "   Sales  Marketing\n",
      "1     76         65\n",
      "2    457         12\n",
      "      Sales  Marketing\n",
      "1  0.171053   1.338462\n",
      "2  0.170678   8.166667\n",
      "3       NaN        NaN\n"
     ]
    }
   ],
   "source": [
    "people={'Sales':{1:13,2:78,3:23},\n",
    "        'Marketing':{1:87,2:98,3:20}}\n",
    "df1=pd.DataFrame(people)\n",
    "print(df1)\n",
    "people={'Sales':{1:76,2:457,},\n",
    "        'Marketing':{1:65,2:12,}}\n",
    "df2=pd.DataFrame(people)\n",
    "print(df2)\n",
    "print(df1.div(df2))"
   ]
  },
  {
   "cell_type": "code",
   "execution_count": 52,
   "id": "aa296e46",
   "metadata": {},
   "outputs": [
    {
     "name": "stdout",
     "output_type": "stream",
     "text": [
      "                 Rice  Wheat  Maize\n",
      "Andhra Pradesh   35.8   76.9     75\n",
      "Gujarat         865.0  987.0     86\n",
      "Goa              87.0   98.0     86\n",
      "Kerala          876.0  987.0     77\n",
      "Sikkim           74.0   98.0     87\n",
      "Rajasthan        87.0   43.0    866\n",
      "Tripura         765.0   98.0     97\n",
      "Rice     35.8\n",
      "Wheat    43.0\n",
      "Maize    75.0\n",
      "dtype: float64\n"
     ]
    }
   ],
   "source": [
    "iprod={'Rice':{'Andhra Pradesh':35.8,'Gujarat':865,'Goa':87.0,'Kerala':876,'Sikkim':74,'Rajasthan':87,'Tripura':765},\n",
    "      'Wheat':{'Andhra Pradesh':76.9,'Gujarat':987,'Goa':98,'Kerala':987,'Sikkim':98,'Rajasthan':43,'Tripura':98},\n",
    "      'Maize':{'Andhra Pradesh':75,'Gujarat':86,'Goa':86,'Kerala':77,'Sikkim':87,'Rajasthan':866,'Tripura':97}}\n",
    "pdf=pd.DataFrame(iprod)\n",
    "print(pdf)\n",
    "print(pdf.min())"
   ]
  },
  {
   "cell_type": "code",
   "execution_count": 53,
   "id": "e241fbf7",
   "metadata": {},
   "outputs": [
    {
     "name": "stdout",
     "output_type": "stream",
     "text": [
      "                 Rice  Wheat  Maize\n",
      "Andhra Pradesh   35.8   76.9     75\n",
      "Gujarat         865.0  987.0     86\n",
      "Goa              87.0   98.0     86\n",
      "Kerala          876.0  987.0     77\n",
      "Sikkim           74.0   98.0     87\n",
      "Rajasthan        87.0   43.0    866\n",
      "Tripura         765.0   98.0     97\n",
      "Rice     876.0\n",
      "Wheat    987.0\n",
      "Maize    866.0\n",
      "dtype: float64\n"
     ]
    }
   ],
   "source": [
    "iprod={'Rice':{'Andhra Pradesh':35.8,'Gujarat':865,'Goa':87.0,'Kerala':876,'Sikkim':74,'Rajasthan':87,'Tripura':765},\n",
    "      'Wheat':{'Andhra Pradesh':76.9,'Gujarat':987,'Goa':98,'Kerala':987,'Sikkim':98,'Rajasthan':43,'Tripura':98},\n",
    "      'Maize':{'Andhra Pradesh':75,'Gujarat':86,'Goa':86,'Kerala':77,'Sikkim':87,'Rajasthan':866,'Tripura':97}}\n",
    "pdf=pd.DataFrame(iprod)\n",
    "print(pdf)\n",
    "print(pdf.max())"
   ]
  },
  {
   "cell_type": "code",
   "execution_count": 54,
   "id": "fe7dea3d",
   "metadata": {},
   "outputs": [
    {
     "name": "stdout",
     "output_type": "stream",
     "text": [
      "                 Rice  Wheat  Maize\n",
      "Andhra Pradesh   35.8   76.9     75\n",
      "Gujarat         865.0  987.0     86\n",
      "Goa              87.0   98.0     86\n",
      "Kerala          876.0  987.0     77\n",
      "Sikkim           74.0   98.0     87\n",
      "Rajasthan        87.0   43.0    866\n",
      "Tripura         765.0   98.0     97\n",
      "Andhra Pradesh    35.8\n",
      "Gujarat           86.0\n",
      "Goa               86.0\n",
      "Kerala            77.0\n",
      "Sikkim            74.0\n",
      "Rajasthan         43.0\n",
      "Tripura           97.0\n",
      "dtype: float64\n"
     ]
    }
   ],
   "source": [
    "iprod={'Rice':{'Andhra Pradesh':35.8,'Gujarat':865,'Goa':87.0,'Kerala':876,'Sikkim':74,'Rajasthan':87,'Tripura':765},\n",
    "      'Wheat':{'Andhra Pradesh':76.9,'Gujarat':987,'Goa':98,'Kerala':987,'Sikkim':98,'Rajasthan':43,'Tripura':98},\n",
    "      'Maize':{'Andhra Pradesh':75,'Gujarat':86,'Goa':86,'Kerala':77,'Sikkim':87,'Rajasthan':866,'Tripura':97}}\n",
    "pdf=pd.DataFrame(iprod)\n",
    "print(pdf)\n",
    "print(pdf.min(axis=1))\n"
   ]
  },
  {
   "cell_type": "code",
   "execution_count": 55,
   "id": "a12ffe30",
   "metadata": {},
   "outputs": [
    {
     "name": "stdout",
     "output_type": "stream",
     "text": [
      "                 Rice  Wheat  Maize\n",
      "Andhra Pradesh   35.8   76.9     75\n",
      "Gujarat         865.0  987.0     86\n",
      "Goa              87.0   98.0     86\n",
      "Kerala          876.0  987.0     77\n",
      "Sikkim           74.0   98.0     87\n",
      "Rajasthan        87.0   43.0    866\n",
      "Tripura         765.0   98.0     97\n",
      "Andhra Pradesh     76.9\n",
      "Gujarat           987.0\n",
      "Goa                98.0\n",
      "Kerala            987.0\n",
      "Sikkim             98.0\n",
      "Rajasthan         866.0\n",
      "Tripura           765.0\n",
      "dtype: float64\n"
     ]
    }
   ],
   "source": [
    "iprod={'Rice':{'Andhra Pradesh':35.8,'Gujarat':865,'Goa':87.0,'Kerala':876,'Sikkim':74,'Rajasthan':87,'Tripura':765},\n",
    "      'Wheat':{'Andhra Pradesh':76.9,'Gujarat':987,'Goa':98,'Kerala':987,'Sikkim':98,'Rajasthan':43,'Tripura':98},\n",
    "      'Maize':{'Andhra Pradesh':75,'Gujarat':86,'Goa':86,'Kerala':77,'Sikkim':87,'Rajasthan':866,'Tripura':97}}\n",
    "pdf=pd.DataFrame(iprod)\n",
    "print(pdf)\n",
    "print(pdf.max(axis=1))\n"
   ]
  },
  {
   "cell_type": "code",
   "execution_count": 56,
   "id": "a53eb09c",
   "metadata": {},
   "outputs": [
    {
     "name": "stdout",
     "output_type": "stream",
     "text": [
      "                 Rice  Wheat  Maize\n",
      "Andhra Pradesh   35.8   76.9     75\n",
      "Gujarat         865.0  987.0     86\n",
      "Goa              87.0   98.0     86\n",
      "Kerala          876.0  987.0     77\n",
      "Sikkim           74.0   98.0     87\n",
      "Rajasthan        87.0   43.0    866\n",
      "Tripura         765.0   98.0     97\n",
      "Rice     35.8\n",
      "Wheat    43.0\n",
      "Maize    75.0\n",
      "dtype: float64\n"
     ]
    }
   ],
   "source": [
    "iprod={'Rice':{'Andhra Pradesh':35.8,'Gujarat':865,'Goa':87.0,'Kerala':876,'Sikkim':74,'Rajasthan':87,'Tripura':765},\n",
    "      'Wheat':{'Andhra Pradesh':76.9,'Gujarat':987,'Goa':98,'Kerala':987,'Sikkim':98,'Rajasthan':43,'Tripura':98},\n",
    "      'Maize':{'Andhra Pradesh':75,'Gujarat':86,'Goa':86,'Kerala':77,'Sikkim':87,'Rajasthan':866,'Tripura':97}}\n",
    "pdf=pd.DataFrame(iprod)\n",
    "print(pdf)\n",
    "print(pdf.min(skipna=True,numeric_only=True))"
   ]
  },
  {
   "cell_type": "code",
   "execution_count": 57,
   "id": "e1b0f110",
   "metadata": {},
   "outputs": [
    {
     "name": "stdout",
     "output_type": "stream",
     "text": [
      "                 Rice  Wheat  Maize\n",
      "Andhra Pradesh   35.8   76.9     75\n",
      "Gujarat         865.0  987.0     86\n",
      "Goa              87.0   98.0     86\n",
      "Kerala          876.0  987.0     77\n",
      "Sikkim           74.0   98.0     87\n",
      "Rajasthan        87.0   43.0    866\n",
      "Tripura         765.0   98.0     97\n",
      "Rice     876.0\n",
      "Wheat    987.0\n",
      "Maize    866.0\n",
      "dtype: float64\n"
     ]
    }
   ],
   "source": [
    "iprod={'Rice':{'Andhra Pradesh':35.8,'Gujarat':865,'Goa':87.0,'Kerala':876,'Sikkim':74,'Rajasthan':87,'Tripura':765},\n",
    "      'Wheat':{'Andhra Pradesh':76.9,'Gujarat':987,'Goa':98,'Kerala':987,'Sikkim':98,'Rajasthan':43,'Tripura':98},\n",
    "      'Maize':{'Andhra Pradesh':75,'Gujarat':86,'Goa':86,'Kerala':77,'Sikkim':87,'Rajasthan':866,'Tripura':97}}\n",
    "pdf=pd.DataFrame(iprod)\n",
    "print(pdf)\n",
    "print(pdf.max(skipna=True,numeric_only=True))"
   ]
  },
  {
   "cell_type": "code",
   "execution_count": 58,
   "id": "45854037",
   "metadata": {},
   "outputs": [
    {
     "name": "stdout",
     "output_type": "stream",
     "text": [
      "                 Rice  Wheat  Maize\n",
      "Andhra Pradesh   35.8   76.9     75\n",
      "Gujarat         865.0  987.0     86\n",
      "Goa              87.0   98.0     86\n",
      "Kerala          876.0  987.0     77\n",
      "Sikkim           74.0   98.0     87\n",
      "Rajasthan        87.0   43.0    866\n",
      "Tripura         765.0   98.0     97\n",
      "Andhra Pradesh     76.9\n",
      "Gujarat           987.0\n",
      "Goa                98.0\n",
      "Kerala            987.0\n",
      "Sikkim             98.0\n",
      "Rajasthan         866.0\n",
      "Tripura           765.0\n",
      "dtype: float64\n"
     ]
    }
   ],
   "source": [
    "iprod={'Rice':{'Andhra Pradesh':35.8,'Gujarat':865,'Goa':87.0,'Kerala':876,'Sikkim':74,'Rajasthan':87,'Tripura':765},\n",
    "      'Wheat':{'Andhra Pradesh':76.9,'Gujarat':987,'Goa':98,'Kerala':987,'Sikkim':98,'Rajasthan':43,'Tripura':98},\n",
    "      'Maize':{'Andhra Pradesh':75,'Gujarat':86,'Goa':86,'Kerala':77,'Sikkim':87,'Rajasthan':866,'Tripura':97}}\n",
    "pdf=pd.DataFrame(iprod)\n",
    "print(pdf)\n",
    "print(pdf.max(axis=1,skipna=True))"
   ]
  },
  {
   "cell_type": "code",
   "execution_count": 59,
   "id": "881f21d6",
   "metadata": {},
   "outputs": [
    {
     "name": "stdout",
     "output_type": "stream",
     "text": [
      "                 Rice  Wheat  Maize\n",
      "Andhra Pradesh   35.8   76.9     75\n",
      "Gujarat         865.0  987.0     86\n",
      "Goa              87.0   98.0     86\n",
      "Kerala          876.0  987.0     77\n",
      "Sikkim           74.0   98.0     87\n",
      "Rajasthan        87.0   43.0    866\n",
      "Tripura         765.0   98.0     97\n",
      "Rice     Andhra Pradesh\n",
      "Wheat         Rajasthan\n",
      "Maize    Andhra Pradesh\n",
      "dtype: object\n"
     ]
    }
   ],
   "source": [
    "iprod={'Rice':{'Andhra Pradesh':35.8,'Gujarat':865,'Goa':87.0,'Kerala':876,'Sikkim':74,'Rajasthan':87,'Tripura':765},\n",
    "      'Wheat':{'Andhra Pradesh':76.9,'Gujarat':987,'Goa':98,'Kerala':987,'Sikkim':98,'Rajasthan':43,'Tripura':98},\n",
    "      'Maize':{'Andhra Pradesh':75,'Gujarat':86,'Goa':86,'Kerala':77,'Sikkim':87,'Rajasthan':866,'Tripura':97}}\n",
    "pdf=pd.DataFrame(iprod)\n",
    "print(pdf)\n",
    "print(pdf.idxmin())"
   ]
  },
  {
   "cell_type": "code",
   "execution_count": 60,
   "id": "2ba2c371",
   "metadata": {},
   "outputs": [
    {
     "name": "stdout",
     "output_type": "stream",
     "text": [
      "                 Rice  Wheat  Maize\n",
      "Andhra Pradesh   35.8   76.9     75\n",
      "Gujarat         865.0  987.0     86\n",
      "Goa              87.0   98.0     86\n",
      "Kerala          876.0  987.0     77\n",
      "Sikkim           74.0   98.0     87\n",
      "Rajasthan        87.0   43.0    866\n",
      "Tripura         765.0   98.0     97\n",
      "Rice        Kerala\n",
      "Wheat      Gujarat\n",
      "Maize    Rajasthan\n",
      "dtype: object\n"
     ]
    }
   ],
   "source": [
    "iprod={'Rice':{'Andhra Pradesh':35.8,'Gujarat':865,'Goa':87.0,'Kerala':876,'Sikkim':74,'Rajasthan':87,'Tripura':765},\n",
    "      'Wheat':{'Andhra Pradesh':76.9,'Gujarat':987,'Goa':98,'Kerala':987,'Sikkim':98,'Rajasthan':43,'Tripura':98},\n",
    "      'Maize':{'Andhra Pradesh':75,'Gujarat':86,'Goa':86,'Kerala':77,'Sikkim':87,'Rajasthan':866,'Tripura':97}}\n",
    "pdf=pd.DataFrame(iprod)\n",
    "print(pdf)\n",
    "print(pdf.idxmax())"
   ]
  },
  {
   "cell_type": "code",
   "execution_count": 61,
   "id": "affcbf98",
   "metadata": {},
   "outputs": [
    {
     "name": "stdout",
     "output_type": "stream",
     "text": [
      "                 Rice  Wheat  Maize\n",
      "Andhra Pradesh   35.8   76.9     75\n",
      "Gujarat         865.0  987.0     86\n",
      "Goa              87.0   98.0     86\n",
      "Kerala          876.0  987.0     77\n",
      "Sikkim           74.0   98.0     87\n",
      "Rajasthan        87.0   43.0    866\n",
      "Tripura         765.0   98.0     97\n",
      "                   0      1      2\n",
      "Andhra Pradesh  35.8   75.0   76.9\n",
      "Gujarat         86.0  865.0  987.0\n",
      "Goa             86.0   87.0   98.0\n",
      "Kerala          77.0  876.0  987.0\n",
      "Sikkim          74.0   87.0   98.0\n",
      "Rajasthan       43.0   87.0  866.0\n",
      "Tripura         97.0   98.0  765.0\n"
     ]
    }
   ],
   "source": [
    "iprod={'Rice':{'Andhra Pradesh':35.8,'Gujarat':865,'Goa':87.0,'Kerala':876,'Sikkim':74,'Rajasthan':87,'Tripura':765},\n",
    "      'Wheat':{'Andhra Pradesh':76.9,'Gujarat':987,'Goa':98,'Kerala':987,'Sikkim':98,'Rajasthan':43,'Tripura':98},\n",
    "      'Maize':{'Andhra Pradesh':75,'Gujarat':86,'Goa':86,'Kerala':77,'Sikkim':87,'Rajasthan':866,'Tripura':97}}\n",
    "pdf=pd.DataFrame(iprod)\n",
    "print(pdf)\n",
    "print(pdf.mode(axis=1))"
   ]
  },
  {
   "cell_type": "code",
   "execution_count": 62,
   "id": "ad5ba44a",
   "metadata": {},
   "outputs": [
    {
     "name": "stdout",
     "output_type": "stream",
     "text": [
      "                 Rice  Wheat  Maize\n",
      "Andhra Pradesh   35.8   76.9     75\n",
      "Gujarat         865.0  987.0     86\n",
      "Goa              87.0   98.0     86\n",
      "Kerala          876.0  987.0     77\n",
      "Sikkim           74.0   98.0     87\n",
      "Rajasthan        87.0   43.0    866\n",
      "Tripura         765.0   98.0     97\n",
      "Andhra Pradesh     75.0\n",
      "Gujarat           865.0\n",
      "Goa                87.0\n",
      "Kerala            876.0\n",
      "Sikkim             87.0\n",
      "Rajasthan          87.0\n",
      "Tripura            98.0\n",
      "dtype: float64\n"
     ]
    }
   ],
   "source": [
    "iprod={'Rice':{'Andhra Pradesh':35.8,'Gujarat':865,'Goa':87.0,'Kerala':876,'Sikkim':74,'Rajasthan':87,'Tripura':765},\n",
    "      'Wheat':{'Andhra Pradesh':76.9,'Gujarat':987,'Goa':98,'Kerala':987,'Sikkim':98,'Rajasthan':43,'Tripura':98},\n",
    "      'Maize':{'Andhra Pradesh':75,'Gujarat':86,'Goa':86,'Kerala':77,'Sikkim':87,'Rajasthan':866,'Tripura':97}}\n",
    "pdf=pd.DataFrame(iprod)\n",
    "print(pdf)\n",
    "print(pdf.median(axis=1))"
   ]
  },
  {
   "cell_type": "code",
   "execution_count": 63,
   "id": "c2c5e618",
   "metadata": {},
   "outputs": [
    {
     "name": "stdout",
     "output_type": "stream",
     "text": [
      "                 Rice  Wheat  Maize\n",
      "Andhra Pradesh   35.8   76.9     75\n",
      "Gujarat         865.0  987.0     86\n",
      "Goa              87.0   98.0     86\n",
      "Kerala          876.0  987.0     77\n",
      "Sikkim           74.0   98.0     87\n",
      "Rajasthan        87.0   43.0    866\n",
      "Tripura         765.0   98.0     97\n",
      "                   0      1      2\n",
      "Andhra Pradesh  35.8   75.0   76.9\n",
      "Gujarat         86.0  865.0  987.0\n",
      "Goa             86.0   87.0   98.0\n",
      "Kerala          77.0  876.0  987.0\n",
      "Sikkim          74.0   87.0   98.0\n",
      "Rajasthan       43.0   87.0  866.0\n",
      "Tripura         97.0   98.0  765.0\n"
     ]
    }
   ],
   "source": [
    "iprod={'Rice':{'Andhra Pradesh':35.8,'Gujarat':865,'Goa':87.0,'Kerala':876,'Sikkim':74,'Rajasthan':87,'Tripura':765},\n",
    "      'Wheat':{'Andhra Pradesh':76.9,'Gujarat':987,'Goa':98,'Kerala':987,'Sikkim':98,'Rajasthan':43,'Tripura':98},\n",
    "      'Maize':{'Andhra Pradesh':75,'Gujarat':86,'Goa':86,'Kerala':77,'Sikkim':87,'Rajasthan':866,'Tripura':97}}\n",
    "pdf=pd.DataFrame(iprod)\n",
    "print(pdf)\n",
    "print(pdf.mode(axis=1))"
   ]
  },
  {
   "cell_type": "code",
   "execution_count": 64,
   "id": "ce7d77ef",
   "metadata": {},
   "outputs": [
    {
     "name": "stdout",
     "output_type": "stream",
     "text": [
      "                 Rice  Wheat  Maize\n",
      "Andhra Pradesh   35.8   76.9     75\n",
      "Gujarat         865.0  987.0     86\n",
      "Goa              87.0   98.0     86\n",
      "Kerala          876.0  987.0     77\n",
      "Sikkim           74.0   98.0     87\n",
      "Rajasthan        87.0   43.0    866\n",
      "Tripura         765.0   98.0     97\n",
      "   Rice  Wheat  Maize\n",
      "0  87.0   98.0     86\n"
     ]
    }
   ],
   "source": [
    "iprod={'Rice':{'Andhra Pradesh':35.8,'Gujarat':865,'Goa':87.0,'Kerala':876,'Sikkim':74,'Rajasthan':87,'Tripura':765},\n",
    "      'Wheat':{'Andhra Pradesh':76.9,'Gujarat':987,'Goa':98,'Kerala':987,'Sikkim':98,'Rajasthan':43,'Tripura':98},\n",
    "      'Maize':{'Andhra Pradesh':75,'Gujarat':86,'Goa':86,'Kerala':77,'Sikkim':87,'Rajasthan':866,'Tripura':97}}\n",
    "pdf=pd.DataFrame(iprod)\n",
    "print(pdf)\n",
    "print(pdf.mode())"
   ]
  },
  {
   "cell_type": "code",
   "execution_count": 65,
   "id": "3308c73c",
   "metadata": {},
   "outputs": [
    {
     "name": "stdout",
     "output_type": "stream",
     "text": [
      "                 Rice  Wheat  Maize\n",
      "Andhra Pradesh   35.8   76.9     75\n",
      "Gujarat         865.0  987.0     86\n",
      "Goa              87.0   98.0     86\n",
      "Kerala          876.0  987.0     77\n",
      "Sikkim           74.0   98.0     87\n",
      "Rajasthan        87.0   43.0    866\n",
      "Tripura         765.0   98.0     97\n",
      "                   0      1      2\n",
      "Andhra Pradesh  35.8   75.0   76.9\n",
      "Gujarat         86.0  865.0  987.0\n",
      "Goa             86.0   87.0   98.0\n",
      "Kerala          77.0  876.0  987.0\n",
      "Sikkim          74.0   87.0   98.0\n",
      "Rajasthan       43.0   87.0  866.0\n",
      "Tripura         97.0   98.0  765.0\n"
     ]
    }
   ],
   "source": [
    "iprod={'Rice':{'Andhra Pradesh':35.8,'Gujarat':865,'Goa':87.0,'Kerala':876,'Sikkim':74,'Rajasthan':87,'Tripura':765},\n",
    "      'Wheat':{'Andhra Pradesh':76.9,'Gujarat':987,'Goa':98,'Kerala':987,'Sikkim':98,'Rajasthan':43,'Tripura':98},\n",
    "      'Maize':{'Andhra Pradesh':75,'Gujarat':86,'Goa':86,'Kerala':77,'Sikkim':87,'Rajasthan':866,'Tripura':97}}\n",
    "pdf=pd.DataFrame(iprod)\n",
    "print(pdf)\n",
    "print(pdf.mode(axis=1))"
   ]
  },
  {
   "cell_type": "code",
   "execution_count": 66,
   "id": "d3a887a8",
   "metadata": {},
   "outputs": [
    {
     "name": "stdout",
     "output_type": "stream",
     "text": [
      "                 Rice  Wheat  Maize\n",
      "Andhra Pradesh   35.8   76.9     75\n",
      "Gujarat         865.0  987.0     86\n",
      "Goa              87.0   98.0     86\n",
      "Kerala          876.0  987.0     77\n",
      "Sikkim           74.0   98.0     87\n",
      "Rajasthan        87.0   43.0    866\n",
      "Tripura         765.0   98.0     97\n",
      "Andhra Pradesh     75.0\n",
      "Gujarat           865.0\n",
      "Goa                87.0\n",
      "Kerala            876.0\n",
      "Sikkim             87.0\n",
      "Rajasthan          87.0\n",
      "Tripura            98.0\n",
      "dtype: float64\n"
     ]
    }
   ],
   "source": [
    "iprod={'Rice':{'Andhra Pradesh':35.8,'Gujarat':865,'Goa':87.0,'Kerala':876,'Sikkim':74,'Rajasthan':87,'Tripura':765},\n",
    "      'Wheat':{'Andhra Pradesh':76.9,'Gujarat':987,'Goa':98,'Kerala':987,'Sikkim':98,'Rajasthan':43,'Tripura':98},\n",
    "      'Maize':{'Andhra Pradesh':75,'Gujarat':86,'Goa':86,'Kerala':77,'Sikkim':87,'Rajasthan':866,'Tripura':97}}\n",
    "pdf=pd.DataFrame(iprod)\n",
    "print(pdf)\n",
    "print(pdf.median(axis=1))"
   ]
  },
  {
   "cell_type": "code",
   "execution_count": 67,
   "id": "a3880b08",
   "metadata": {},
   "outputs": [
    {
     "name": "stdout",
     "output_type": "stream",
     "text": [
      "                 Rice  Wheat  Maize\n",
      "Andhra Pradesh   35.8   76.9     75\n",
      "Gujarat         865.0  987.0     86\n",
      "Goa              87.0   98.0     86\n",
      "Kerala          876.0  987.0     77\n",
      "Sikkim           74.0   98.0     87\n",
      "Rajasthan        87.0   43.0    866\n",
      "Tripura         765.0   98.0     97\n",
      "Andhra Pradesh     62.566667\n",
      "Gujarat           646.000000\n",
      "Goa                90.333333\n",
      "Kerala            646.666667\n",
      "Sikkim             86.333333\n",
      "Rajasthan         332.000000\n",
      "Tripura           320.000000\n",
      "dtype: float64\n"
     ]
    }
   ],
   "source": [
    "iprod={'Rice':{'Andhra Pradesh':35.8,'Gujarat':865,'Goa':87.0,'Kerala':876,'Sikkim':74,'Rajasthan':87,'Tripura':765},\n",
    "      'Wheat':{'Andhra Pradesh':76.9,'Gujarat':987,'Goa':98,'Kerala':987,'Sikkim':98,'Rajasthan':43,'Tripura':98},\n",
    "      'Maize':{'Andhra Pradesh':75,'Gujarat':86,'Goa':86,'Kerala':77,'Sikkim':87,'Rajasthan':866,'Tripura':97}}\n",
    "pdf=pd.DataFrame(iprod)\n",
    "print(pdf)\n",
    "print(pdf.mean(axis=1))"
   ]
  },
  {
   "cell_type": "code",
   "execution_count": 68,
   "id": "6ce08814",
   "metadata": {},
   "outputs": [
    {
     "name": "stdout",
     "output_type": "stream",
     "text": [
      "                 Rice  Wheat  Maize\n",
      "Andhra Pradesh   35.8   76.9     75\n",
      "Gujarat         865.0  987.0     86\n",
      "Goa              87.0   98.0     86\n",
      "Kerala          876.0  987.0     77\n",
      "Sikkim           74.0   98.0     87\n",
      "Rajasthan        87.0   43.0    866\n",
      "Tripura         765.0   98.0     97\n",
      "Andhra Pradesh    3\n",
      "Gujarat           3\n",
      "Goa               3\n",
      "Kerala            3\n",
      "Sikkim            3\n",
      "Rajasthan         3\n",
      "Tripura           3\n",
      "dtype: int64\n"
     ]
    }
   ],
   "source": [
    "iprod={'Rice':{'Andhra Pradesh':35.8,'Gujarat':865,'Goa':87.0,'Kerala':876,'Sikkim':74,'Rajasthan':87,'Tripura':765},\n",
    "      'Wheat':{'Andhra Pradesh':76.9,'Gujarat':987,'Goa':98,'Kerala':987,'Sikkim':98,'Rajasthan':43,'Tripura':98},\n",
    "      'Maize':{'Andhra Pradesh':75,'Gujarat':86,'Goa':86,'Kerala':77,'Sikkim':87,'Rajasthan':866,'Tripura':97}}\n",
    "pdf=pd.DataFrame(iprod)\n",
    "print(pdf)\n",
    "print(pdf.count(axis=1))"
   ]
  },
  {
   "cell_type": "code",
   "execution_count": 69,
   "id": "a5d96a08",
   "metadata": {},
   "outputs": [
    {
     "name": "stdout",
     "output_type": "stream",
     "text": [
      "                 Rice  Wheat  Maize\n",
      "Andhra Pradesh   35.8   76.9     75\n",
      "Gujarat         865.0  987.0     86\n",
      "Goa              87.0   98.0     86\n",
      "Kerala          876.0  987.0     77\n",
      "Sikkim           74.0   98.0     87\n",
      "Rajasthan        87.0   43.0    866\n",
      "Tripura         765.0   98.0     97\n",
      "Andhra Pradesh     187.7\n",
      "Gujarat           1938.0\n",
      "Goa                271.0\n",
      "Kerala            1940.0\n",
      "Sikkim             259.0\n",
      "Rajasthan          996.0\n",
      "Tripura            960.0\n",
      "dtype: float64\n"
     ]
    }
   ],
   "source": [
    "iprod={'Rice':{'Andhra Pradesh':35.8,'Gujarat':865,'Goa':87.0,'Kerala':876,'Sikkim':74,'Rajasthan':87,'Tripura':765},\n",
    "      'Wheat':{'Andhra Pradesh':76.9,'Gujarat':987,'Goa':98,'Kerala':987,'Sikkim':98,'Rajasthan':43,'Tripura':98},\n",
    "      'Maize':{'Andhra Pradesh':75,'Gujarat':86,'Goa':86,'Kerala':77,'Sikkim':87,'Rajasthan':866,'Tripura':97}}\n",
    "pdf=pd.DataFrame(iprod)\n",
    "print(pdf)\n",
    "print(pdf.sum(axis=1))"
   ]
  },
  {
   "cell_type": "code",
   "execution_count": 70,
   "id": "0865af7c",
   "metadata": {},
   "outputs": [
    {
     "name": "stdout",
     "output_type": "stream",
     "text": [
      "                 Rice  Wheat  Maize\n",
      "Andhra Pradesh   35.8   76.9     75\n",
      "Gujarat         865.0  987.0     86\n",
      "Goa              87.0   98.0     86\n",
      "Kerala          876.0  987.0     77\n",
      "Sikkim           74.0   98.0     87\n",
      "Rajasthan        87.0   43.0    866\n",
      "Tripura         765.0   98.0     97\n",
      "   Rice  Wheat  Maize\n",
      "0  87.0   98.0     86\n"
     ]
    }
   ],
   "source": [
    "iprod={'Rice':{'Andhra Pradesh':35.8,'Gujarat':865,'Goa':87.0,'Kerala':876,'Sikkim':74,'Rajasthan':87,'Tripura':765},\n",
    "      'Wheat':{'Andhra Pradesh':76.9,'Gujarat':987,'Goa':98,'Kerala':987,'Sikkim':98,'Rajasthan':43,'Tripura':98},\n",
    "      'Maize':{'Andhra Pradesh':75,'Gujarat':86,'Goa':86,'Kerala':77,'Sikkim':87,'Rajasthan':866,'Tripura':97}}\n",
    "pdf=pd.DataFrame(iprod)\n",
    "print(pdf)\n",
    "print(pdf.mode())"
   ]
  },
  {
   "cell_type": "code",
   "execution_count": 71,
   "id": "4519bca2",
   "metadata": {},
   "outputs": [
    {
     "name": "stdout",
     "output_type": "stream",
     "text": [
      "                 Rice  Wheat  Maize\n",
      "Andhra Pradesh   35.8   76.9     75\n",
      "Gujarat         865.0  987.0     86\n",
      "Goa              87.0   98.0     86\n",
      "Kerala          876.0  987.0     77\n",
      "Sikkim           74.0   98.0     87\n",
      "Rajasthan        87.0   43.0    866\n",
      "Tripura         765.0   98.0     97\n",
      "Rice     2789.8\n",
      "Wheat    2387.9\n",
      "Maize    1374.0\n",
      "dtype: float64\n"
     ]
    }
   ],
   "source": [
    "iprod={'Rice':{'Andhra Pradesh':35.8,'Gujarat':865,'Goa':87.0,'Kerala':876,'Sikkim':74,'Rajasthan':87,'Tripura':765},\n",
    "      'Wheat':{'Andhra Pradesh':76.9,'Gujarat':987,'Goa':98,'Kerala':987,'Sikkim':98,'Rajasthan':43,'Tripura':98},\n",
    "      'Maize':{'Andhra Pradesh':75,'Gujarat':86,'Goa':86,'Kerala':77,'Sikkim':87,'Rajasthan':866,'Tripura':97}}\n",
    "pdf=pd.DataFrame(iprod)\n",
    "print(pdf)\n",
    "print(pdf.sum())"
   ]
  },
  {
   "cell_type": "code",
   "execution_count": 72,
   "id": "9e8d4531",
   "metadata": {},
   "outputs": [
    {
     "name": "stdout",
     "output_type": "stream",
     "text": [
      "                 Rice  Wheat  Maize\n",
      "Andhra Pradesh   35.8   76.9     75\n",
      "Gujarat         865.0  987.0     86\n",
      "Goa              87.0   98.0     86\n",
      "Kerala          876.0  987.0     77\n",
      "Sikkim           74.0   98.0     87\n",
      "Rajasthan        87.0   43.0    866\n",
      "Tripura         765.0   98.0     97\n",
      "       Rice   Wheat  Maize\n",
      "0.25   80.5   87.45   81.5\n",
      "0.50   87.0   98.00   86.0\n",
      "0.75  815.0  542.50   92.0\n",
      "1.00  876.0  987.00  866.0\n"
     ]
    }
   ],
   "source": [
    "iprod={'Rice':{'Andhra Pradesh':35.8,'Gujarat':865,'Goa':87.0,'Kerala':876,'Sikkim':74,'Rajasthan':87,'Tripura':765},\n",
    "      'Wheat':{'Andhra Pradesh':76.9,'Gujarat':987,'Goa':98,'Kerala':987,'Sikkim':98,'Rajasthan':43,'Tripura':98},\n",
    "      'Maize':{'Andhra Pradesh':75,'Gujarat':86,'Goa':86,'Kerala':77,'Sikkim':87,'Rajasthan':866,'Tripura':97}}\n",
    "pdf=pd.DataFrame(iprod)\n",
    "print(pdf)\n",
    "print(pdf.quantile([0.25,0.5,0.75,1.0]))"
   ]
  },
  {
   "cell_type": "code",
   "execution_count": 73,
   "id": "e166d7d4",
   "metadata": {},
   "outputs": [
    {
     "name": "stdout",
     "output_type": "stream",
     "text": [
      "                 Rice  Wheat  Maize\n",
      "Andhra Pradesh   35.8   76.9     75\n",
      "Gujarat         865.0  987.0     86\n",
      "Goa              87.0   98.0     86\n",
      "Kerala          876.0  987.0     77\n",
      "Sikkim           74.0   98.0     87\n",
      "Rajasthan        87.0   43.0    866\n",
      "Tripura         765.0   98.0     97\n",
      "      Andhra Pradesh  Gujarat   Goa  Kerala  Sikkim  Rajasthan  Tripura\n",
      "0.25           55.40    475.5  86.5   476.5    80.5       65.0     97.5\n",
      "0.50           75.00    865.0  87.0   876.0    87.0       87.0     98.0\n",
      "0.75           75.95    926.0  92.5   931.5    92.5      476.5    431.5\n",
      "1.00           76.90    987.0  98.0   987.0    98.0      866.0    765.0\n"
     ]
    }
   ],
   "source": [
    "iprod={'Rice':{'Andhra Pradesh':35.8,'Gujarat':865,'Goa':87.0,'Kerala':876,'Sikkim':74,'Rajasthan':87,'Tripura':765},\n",
    "      'Wheat':{'Andhra Pradesh':76.9,'Gujarat':987,'Goa':98,'Kerala':987,'Sikkim':98,'Rajasthan':43,'Tripura':98},\n",
    "      'Maize':{'Andhra Pradesh':75,'Gujarat':86,'Goa':86,'Kerala':77,'Sikkim':87,'Rajasthan':866,'Tripura':97}}\n",
    "pdf=pd.DataFrame(iprod)\n",
    "print(pdf)\n",
    "print(pdf.quantile([0.25,0.5,0.75,1.0],axis=1))"
   ]
  },
  {
   "cell_type": "code",
   "execution_count": 74,
   "id": "617b2ea4",
   "metadata": {},
   "outputs": [
    {
     "name": "stdout",
     "output_type": "stream",
     "text": [
      "                 Rice  Wheat  Maize\n",
      "Andhra Pradesh   35.8   76.9     75\n",
      "Gujarat         865.0  987.0     86\n",
      "Goa              87.0   98.0     86\n",
      "Kerala          876.0  987.0     77\n",
      "Sikkim           74.0   98.0     87\n",
      "Rajasthan        87.0   43.0    866\n",
      "Tripura         765.0   98.0     97\n",
      "Andhra Pradesh     23.200072\n",
      "Gujarat           488.795458\n",
      "Goa                 6.658328\n",
      "Kerala            496.457786\n",
      "Sikkim             12.013881\n",
      "Rajasthan         462.980561\n",
      "Tripura           385.381629\n",
      "dtype: float64\n"
     ]
    }
   ],
   "source": [
    "iprod={'Rice':{'Andhra Pradesh':35.8,'Gujarat':865,'Goa':87.0,'Kerala':876,'Sikkim':74,'Rajasthan':87,'Tripura':765},\n",
    "      'Wheat':{'Andhra Pradesh':76.9,'Gujarat':987,'Goa':98,'Kerala':987,'Sikkim':98,'Rajasthan':43,'Tripura':98},\n",
    "      'Maize':{'Andhra Pradesh':75,'Gujarat':86,'Goa':86,'Kerala':77,'Sikkim':87,'Rajasthan':866,'Tripura':97}}\n",
    "pdf=pd.DataFrame(iprod)\n",
    "print(pdf)\n",
    "print(pdf.std(axis=1))"
   ]
  },
  {
   "cell_type": "code",
   "execution_count": 75,
   "id": "a9866d8d",
   "metadata": {},
   "outputs": [
    {
     "name": "stdout",
     "output_type": "stream",
     "text": [
      "                 Rice  Wheat  Maize\n",
      "Andhra Pradesh   35.8   76.9     75\n",
      "Gujarat         865.0  987.0     86\n",
      "Goa              87.0   98.0     86\n",
      "Kerala          876.0  987.0     77\n",
      "Sikkim           74.0   98.0     87\n",
      "Rajasthan        87.0   43.0    866\n",
      "Tripura         765.0   98.0     97\n",
      "Rice     410.460468\n",
      "Wheat    441.650634\n",
      "Maize    295.404646\n",
      "dtype: float64\n"
     ]
    }
   ],
   "source": [
    "iprod={'Rice':{'Andhra Pradesh':35.8,'Gujarat':865,'Goa':87.0,'Kerala':876,'Sikkim':74,'Rajasthan':87,'Tripura':765},\n",
    "      'Wheat':{'Andhra Pradesh':76.9,'Gujarat':987,'Goa':98,'Kerala':987,'Sikkim':98,'Rajasthan':43,'Tripura':98},\n",
    "      'Maize':{'Andhra Pradesh':75,'Gujarat':86,'Goa':86,'Kerala':77,'Sikkim':87,'Rajasthan':866,'Tripura':97}}\n",
    "pdf=pd.DataFrame(iprod)\n",
    "print(pdf)\n",
    "print(pdf.std())"
   ]
  },
  {
   "cell_type": "code",
   "execution_count": 76,
   "id": "6aa6c030",
   "metadata": {},
   "outputs": [
    {
     "name": "stdout",
     "output_type": "stream",
     "text": [
      "                 Rice  Wheat  Maize\n",
      "Andhra Pradesh   35.8   76.9     75\n",
      "Gujarat         865.0  987.0     86\n",
      "Goa              87.0   98.0     86\n",
      "Kerala          876.0  987.0     77\n",
      "Sikkim           74.0   98.0     87\n",
      "Rajasthan        87.0   43.0    866\n",
      "Tripura         765.0   98.0     97\n",
      "Andhra Pradesh       538.243333\n",
      "Gujarat           238921.000000\n",
      "Goa                   44.333333\n",
      "Kerala            246470.333333\n",
      "Sikkim               144.333333\n",
      "Rajasthan         214351.000000\n",
      "Tripura           148519.000000\n",
      "dtype: float64\n"
     ]
    }
   ],
   "source": [
    "iprod={'Rice':{'Andhra Pradesh':35.8,'Gujarat':865,'Goa':87.0,'Kerala':876,'Sikkim':74,'Rajasthan':87,'Tripura':765},\n",
    "      'Wheat':{'Andhra Pradesh':76.9,'Gujarat':987,'Goa':98,'Kerala':987,'Sikkim':98,'Rajasthan':43,'Tripura':98},\n",
    "      'Maize':{'Andhra Pradesh':75,'Gujarat':86,'Goa':86,'Kerala':77,'Sikkim':87,'Rajasthan':866,'Tripura':97}}\n",
    "pdf=pd.DataFrame(iprod)\n",
    "print(pdf)\n",
    "print(pdf.var(axis=1))"
   ]
  },
  {
   "cell_type": "code",
   "execution_count": 77,
   "id": "7f880ae3",
   "metadata": {},
   "outputs": [
    {
     "name": "stdout",
     "output_type": "stream",
     "text": [
      "                 Rice  Wheat  Maize\n",
      "Andhra Pradesh   35.8   76.9     75\n",
      "Gujarat         865.0  987.0     86\n",
      "Goa              87.0   98.0     86\n",
      "Kerala          876.0  987.0     77\n",
      "Sikkim           74.0   98.0     87\n",
      "Rajasthan        87.0   43.0    866\n",
      "Tripura         765.0   98.0     97\n",
      "Rice     168477.796190\n",
      "Wheat    195055.282381\n",
      "Maize     87263.904762\n",
      "dtype: float64\n"
     ]
    }
   ],
   "source": [
    "iprod={'Rice':{'Andhra Pradesh':35.8,'Gujarat':865,'Goa':87.0,'Kerala':876,'Sikkim':74,'Rajasthan':87,'Tripura':765},\n",
    "      'Wheat':{'Andhra Pradesh':76.9,'Gujarat':987,'Goa':98,'Kerala':987,'Sikkim':98,'Rajasthan':43,'Tripura':98},\n",
    "      'Maize':{'Andhra Pradesh':75,'Gujarat':86,'Goa':86,'Kerala':77,'Sikkim':87,'Rajasthan':866,'Tripura':97}}\n",
    "pdf=pd.DataFrame(iprod)\n",
    "print(pdf)\n",
    "print(pdf.var())"
   ]
  },
  {
   "cell_type": "code",
   "execution_count": 78,
   "id": "56fca446",
   "metadata": {},
   "outputs": [
    {
     "name": "stdout",
     "output_type": "stream",
     "text": [
      "                 Rice  Wheat  Maize\n",
      "Andhra Pradesh   35.8   76.9     75\n",
      "Gujarat         865.0  987.0     86\n",
      "Goa              87.0   98.0     86\n",
      "Kerala          876.0  987.0     77\n",
      "Sikkim           74.0   98.0     87\n",
      "Rajasthan        87.0   43.0    866\n",
      "Tripura         765.0   98.0     97\n",
      "             Rice       Wheat       Maize\n",
      "count    7.000000    7.000000    7.000000\n",
      "mean   398.542857  341.128571  196.285714\n",
      "std    410.460468  441.650634  295.404646\n",
      "min     35.800000   43.000000   75.000000\n",
      "25%     80.500000   87.450000   81.500000\n",
      "50%     87.000000   98.000000   86.000000\n",
      "75%    815.000000  542.500000   92.000000\n",
      "max    876.000000  987.000000  866.000000\n"
     ]
    }
   ],
   "source": [
    "iprod={'Rice':{'Andhra Pradesh':35.8,'Gujarat':865,'Goa':87.0,'Kerala':876,'Sikkim':74,'Rajasthan':87,'Tripura':765},\n",
    "      'Wheat':{'Andhra Pradesh':76.9,'Gujarat':987,'Goa':98,'Kerala':987,'Sikkim':98,'Rajasthan':43,'Tripura':98},\n",
    "      'Maize':{'Andhra Pradesh':75,'Gujarat':86,'Goa':86,'Kerala':77,'Sikkim':87,'Rajasthan':866,'Tripura':97}}\n",
    "pdf=pd.DataFrame(iprod)\n",
    "print(pdf)\n",
    "print(pdf.describe())"
   ]
  },
  {
   "cell_type": "code",
   "execution_count": 79,
   "id": "8286232b",
   "metadata": {},
   "outputs": [
    {
     "name": "stdout",
     "output_type": "stream",
     "text": [
      "                 Rice  Wheat  Maize\n",
      "Andhra Pradesh   35.8   76.9     75\n",
      "Gujarat         865.0  987.0     86\n",
      "Goa              87.0   98.0     86\n",
      "Kerala          876.0  987.0     77\n",
      "Sikkim           74.0   98.0     87\n",
      "Rajasthan        87.0   43.0    866\n",
      "Tripura         765.0   98.0     97\n",
      "             Rice       Wheat       Maize\n",
      "count    7.000000    7.000000    7.000000\n",
      "mean   398.542857  341.128571  196.285714\n",
      "std    410.460468  441.650634  295.404646\n",
      "min     35.800000   43.000000   75.000000\n",
      "25%     80.500000   87.450000   81.500000\n",
      "50%     87.000000   98.000000   86.000000\n",
      "75%    815.000000  542.500000   92.000000\n",
      "max    876.000000  987.000000  866.000000\n"
     ]
    }
   ],
   "source": [
    "iprod={'Rice':{'Andhra Pradesh':35.8,'Gujarat':865,'Goa':87.0,'Kerala':876,'Sikkim':74,'Rajasthan':87,'Tripura':765},\n",
    "      'Wheat':{'Andhra Pradesh':76.9,'Gujarat':987,'Goa':98,'Kerala':987,'Sikkim':98,'Rajasthan':43,'Tripura':98},\n",
    "      'Maize':{'Andhra Pradesh':75,'Gujarat':86,'Goa':86,'Kerala':77,'Sikkim':87,'Rajasthan':866,'Tripura':97}}\n",
    "pdf=pd.DataFrame(iprod)\n",
    "print(pdf)\n",
    "print(pdf.describe(include='all'))"
   ]
  },
  {
   "cell_type": "code",
   "execution_count": 80,
   "id": "4f059205",
   "metadata": {},
   "outputs": [
    {
     "name": "stdout",
     "output_type": "stream",
     "text": [
      "                 Rice  Wheat  Maize\n",
      "Andhra Pradesh   35.8   76.9     75\n",
      "Gujarat         865.0  987.0     86\n",
      "Goa              87.0   98.0     86\n",
      "Kerala          876.0  987.0     77\n",
      "Sikkim           74.0   98.0     87\n",
      "Rajasthan        87.0   43.0    866\n",
      "Tripura         765.0   98.0     97\n",
      "<class 'pandas.core.frame.DataFrame'>\n",
      "Index: 7 entries, Andhra Pradesh to Tripura\n",
      "Data columns (total 3 columns):\n",
      " #   Column  Non-Null Count  Dtype  \n",
      "---  ------  --------------  -----  \n",
      " 0   Rice    7 non-null      float64\n",
      " 1   Wheat   7 non-null      float64\n",
      " 2   Maize   7 non-null      int64  \n",
      "dtypes: float64(2), int64(1)\n",
      "memory usage: 224.0+ bytes\n",
      "None\n"
     ]
    }
   ],
   "source": [
    "iprod={'Rice':{'Andhra Pradesh':35.8,'Gujarat':865,'Goa':87.0,'Kerala':876,'Sikkim':74,'Rajasthan':87,'Tripura':765},\n",
    "      'Wheat':{'Andhra Pradesh':76.9,'Gujarat':987,'Goa':98,'Kerala':987,'Sikkim':98,'Rajasthan':43,'Tripura':98},\n",
    "      'Maize':{'Andhra Pradesh':75,'Gujarat':86,'Goa':86,'Kerala':77,'Sikkim':87,'Rajasthan':866,'Tripura':97}}\n",
    "pdf=pd.DataFrame(iprod)\n",
    "print(pdf)\n",
    "print(pdf.info())"
   ]
  },
  {
   "cell_type": "code",
   "execution_count": 81,
   "id": "5c582543",
   "metadata": {},
   "outputs": [
    {
     "name": "stdout",
     "output_type": "stream",
     "text": [
      "                 Rice  Wheat  Maize\n",
      "Andhra Pradesh   35.8   76.9     75\n",
      "Gujarat         865.0  987.0     86\n",
      "Goa              87.0   98.0     86\n",
      "Kerala          876.0  987.0     77\n",
      "Sikkim           74.0   98.0     87\n",
      "Rajasthan        87.0   43.0    866\n",
      "Tripura         765.0   98.0     97\n",
      "                 Rice  Wheat  Maize\n",
      "Andhra Pradesh   35.8   76.9     75\n",
      "Gujarat         865.0  987.0     86\n",
      "Goa              87.0   98.0     86\n",
      "Kerala          876.0  987.0     77\n",
      "Sikkim           74.0   98.0     87\n"
     ]
    }
   ],
   "source": [
    "iprod={'Rice':{'Andhra Pradesh':35.8,'Gujarat':865,'Goa':87.0,'Kerala':876,'Sikkim':74,'Rajasthan':87,'Tripura':765},\n",
    "      'Wheat':{'Andhra Pradesh':76.9,'Gujarat':987,'Goa':98,'Kerala':987,'Sikkim':98,'Rajasthan':43,'Tripura':98},\n",
    "      'Maize':{'Andhra Pradesh':75,'Gujarat':86,'Goa':86,'Kerala':77,'Sikkim':87,'Rajasthan':866,'Tripura':97}}\n",
    "pdf=pd.DataFrame(iprod)\n",
    "print(pdf)\n",
    "print(pdf.head())"
   ]
  },
  {
   "cell_type": "code",
   "execution_count": 82,
   "id": "53abf7cf",
   "metadata": {},
   "outputs": [
    {
     "name": "stdout",
     "output_type": "stream",
     "text": [
      "                 Rice  Wheat  Maize\n",
      "Andhra Pradesh   35.8   76.9     75\n",
      "Gujarat         865.0  987.0     86\n",
      "Goa              87.0   98.0     86\n",
      "Kerala          876.0  987.0     77\n",
      "Sikkim           74.0   98.0     87\n",
      "Rajasthan        87.0   43.0    866\n",
      "Tripura         765.0   98.0     97\n",
      "            Rice  Wheat  Maize\n",
      "Goa         87.0   98.0     86\n",
      "Kerala     876.0  987.0     77\n",
      "Sikkim      74.0   98.0     87\n",
      "Rajasthan   87.0   43.0    866\n",
      "Tripura    765.0   98.0     97\n"
     ]
    }
   ],
   "source": [
    "iprod={'Rice':{'Andhra Pradesh':35.8,'Gujarat':865,'Goa':87.0,'Kerala':876,'Sikkim':74,'Rajasthan':87,'Tripura':765},\n",
    "      'Wheat':{'Andhra Pradesh':76.9,'Gujarat':987,'Goa':98,'Kerala':987,'Sikkim':98,'Rajasthan':43,'Tripura':98},\n",
    "      'Maize':{'Andhra Pradesh':75,'Gujarat':86,'Goa':86,'Kerala':77,'Sikkim':87,'Rajasthan':866,'Tripura':97}}\n",
    "pdf=pd.DataFrame(iprod)\n",
    "print(pdf)\n",
    "print(pdf.tail())"
   ]
  },
  {
   "cell_type": "code",
   "execution_count": 83,
   "id": "e80db8d2",
   "metadata": {},
   "outputs": [
    {
     "name": "stdout",
     "output_type": "stream",
     "text": [
      "                 Rice  Wheat  Maize\n",
      "Andhra Pradesh   35.8   76.9     75\n",
      "Gujarat         865.0  987.0     86\n",
      "Goa              87.0   98.0     86\n",
      "Kerala          876.0  987.0     77\n",
      "Sikkim           74.0   98.0     87\n",
      "Rajasthan        87.0   43.0    866\n",
      "Tripura         765.0   98.0     97\n",
      "                 Rice  Wheat  Maize\n",
      "Andhra Pradesh   35.8   76.9     75\n",
      "Gujarat         865.0  987.0     86\n",
      "Goa              87.0   98.0     86\n"
     ]
    }
   ],
   "source": [
    "iprod={'Rice':{'Andhra Pradesh':35.8,'Gujarat':865,'Goa':87.0,'Kerala':876,'Sikkim':74,'Rajasthan':87,'Tripura':765},\n",
    "      'Wheat':{'Andhra Pradesh':76.9,'Gujarat':987,'Goa':98,'Kerala':987,'Sikkim':98,'Rajasthan':43,'Tripura':98},\n",
    "      'Maize':{'Andhra Pradesh':75,'Gujarat':86,'Goa':86,'Kerala':77,'Sikkim':87,'Rajasthan':866,'Tripura':97}}\n",
    "pdf=pd.DataFrame(iprod)\n",
    "print(pdf)\n",
    "print(pdf.head(n=3))"
   ]
  },
  {
   "cell_type": "code",
   "execution_count": 84,
   "id": "57867f26",
   "metadata": {},
   "outputs": [
    {
     "name": "stdout",
     "output_type": "stream",
     "text": [
      "                 Rice  Wheat  Maize\n",
      "Andhra Pradesh   35.8   76.9     75\n",
      "Gujarat         865.0  987.0     86\n",
      "Goa              87.0   98.0     86\n",
      "Kerala          876.0  987.0     77\n",
      "Sikkim           74.0   98.0     87\n",
      "Rajasthan        87.0   43.0    866\n",
      "Tripura         765.0   98.0     97\n",
      "            Rice  Wheat  Maize\n",
      "Kerala     876.0  987.0     77\n",
      "Sikkim      74.0   98.0     87\n",
      "Rajasthan   87.0   43.0    866\n",
      "Tripura    765.0   98.0     97\n"
     ]
    }
   ],
   "source": [
    "iprod={'Rice':{'Andhra Pradesh':35.8,'Gujarat':865,'Goa':87.0,'Kerala':876,'Sikkim':74,'Rajasthan':87,'Tripura':765},\n",
    "      'Wheat':{'Andhra Pradesh':76.9,'Gujarat':987,'Goa':98,'Kerala':987,'Sikkim':98,'Rajasthan':43,'Tripura':98},\n",
    "      'Maize':{'Andhra Pradesh':75,'Gujarat':86,'Goa':86,'Kerala':77,'Sikkim':87,'Rajasthan':866,'Tripura':97}}\n",
    "pdf=pd.DataFrame(iprod)\n",
    "print(pdf)\n",
    "print(pdf.tail(n=4))"
   ]
  },
  {
   "cell_type": "code",
   "execution_count": 85,
   "id": "ca9ad79d",
   "metadata": {},
   "outputs": [
    {
     "name": "stdout",
     "output_type": "stream",
     "text": [
      "                 Rice  Wheat  Maize\n",
      "Andhra Pradesh   35.8   76.9     75\n",
      "Gujarat         865.0  987.0     86\n",
      "Goa              87.0   98.0     86\n",
      "Kerala          876.0  987.0     77\n",
      "Sikkim           74.0   98.0     87\n",
      "Rajasthan        87.0   43.0    866\n",
      "Tripura         765.0   98.0     97\n",
      "                  Rice   Wheat  Maize\n",
      "Andhra Pradesh    35.8    76.9     75\n",
      "Gujarat          900.8  1063.9    161\n",
      "Goa              987.8  1161.9    247\n",
      "Kerala          1863.8  2148.9    324\n",
      "Sikkim          1937.8  2246.9    411\n",
      "Rajasthan       2024.8  2289.9   1277\n",
      "Tripura         2789.8  2387.9   1374\n"
     ]
    }
   ],
   "source": [
    "iprod={'Rice':{'Andhra Pradesh':35.8,'Gujarat':865,'Goa':87.0,'Kerala':876,'Sikkim':74,'Rajasthan':87,'Tripura':765},\n",
    "      'Wheat':{'Andhra Pradesh':76.9,'Gujarat':987,'Goa':98,'Kerala':987,'Sikkim':98,'Rajasthan':43,'Tripura':98},\n",
    "      'Maize':{'Andhra Pradesh':75,'Gujarat':86,'Goa':86,'Kerala':77,'Sikkim':87,'Rajasthan':866,'Tripura':97}}\n",
    "pdf=pd.DataFrame(iprod)\n",
    "print(pdf)\n",
    "print(pdf.cumsum())"
   ]
  },
  {
   "cell_type": "code",
   "execution_count": 86,
   "id": "6fd03d25",
   "metadata": {},
   "outputs": [
    {
     "name": "stdout",
     "output_type": "stream",
     "text": [
      "                 Rice  Wheat  Maize\n",
      "Andhra Pradesh   35.8   76.9     75\n",
      "Gujarat         865.0  987.0     86\n",
      "Goa              87.0   98.0     86\n",
      "Kerala          876.0  987.0     77\n",
      "Sikkim           74.0   98.0     87\n",
      "Rajasthan        87.0   43.0    866\n",
      "Tripura         765.0   98.0     97\n",
      "                  Rice   Wheat  Maize\n",
      "Andhra Pradesh    35.8    76.9     75\n",
      "Gujarat          900.8  1063.9    161\n",
      "Goa              987.8  1161.9    247\n",
      "Kerala          1863.8  2148.9    324\n",
      "Sikkim          1937.8  2246.9    411\n",
      "Rajasthan       2024.8  2289.9   1277\n",
      "Tripura         2789.8  2387.9   1374\n"
     ]
    }
   ],
   "source": [
    "iprod={'Rice':{'Andhra Pradesh':35.8,'Gujarat':865,'Goa':87.0,'Kerala':876,'Sikkim':74,'Rajasthan':87,'Tripura':765},\n",
    "      'Wheat':{'Andhra Pradesh':76.9,'Gujarat':987,'Goa':98,'Kerala':987,'Sikkim':98,'Rajasthan':43,'Tripura':98},\n",
    "      'Maize':{'Andhra Pradesh':75,'Gujarat':86,'Goa':86,'Kerala':77,'Sikkim':87,'Rajasthan':866,'Tripura':97}}\n",
    "pdf=pd.DataFrame(iprod)\n",
    "print(pdf)\n",
    "print(pdf.cumsum(axis='rows'))"
   ]
  },
  {
   "cell_type": "code",
   "execution_count": 87,
   "id": "ff3a216a",
   "metadata": {},
   "outputs": [
    {
     "name": "stdout",
     "output_type": "stream",
     "text": [
      "                 Rice  Wheat  Maize\n",
      "Andhra Pradesh   35.8   76.9     75\n",
      "Gujarat         865.0  987.0     86\n",
      "Goa              87.0   98.0     86\n",
      "Kerala          876.0  987.0     77\n",
      "Sikkim           74.0   98.0     87\n",
      "Rajasthan        87.0   43.0    866\n",
      "Tripura         765.0   98.0     97\n",
      "                 Rice   Wheat   Maize\n",
      "Andhra Pradesh   35.8   112.7   187.7\n",
      "Gujarat         865.0  1852.0  1938.0\n",
      "Goa              87.0   185.0   271.0\n",
      "Kerala          876.0  1863.0  1940.0\n",
      "Sikkim           74.0   172.0   259.0\n",
      "Rajasthan        87.0   130.0   996.0\n",
      "Tripura         765.0   863.0   960.0\n"
     ]
    }
   ],
   "source": [
    "iprod={'Rice':{'Andhra Pradesh':35.8,'Gujarat':865,'Goa':87.0,'Kerala':876,'Sikkim':74,'Rajasthan':87,'Tripura':765},\n",
    "      'Wheat':{'Andhra Pradesh':76.9,'Gujarat':987,'Goa':98,'Kerala':987,'Sikkim':98,'Rajasthan':43,'Tripura':98},\n",
    "      'Maize':{'Andhra Pradesh':75,'Gujarat':86,'Goa':86,'Kerala':77,'Sikkim':87,'Rajasthan':866,'Tripura':97}}\n",
    "pdf=pd.DataFrame(iprod)\n",
    "print(pdf)\n",
    "print(pdf.cumsum(axis='columns'))"
   ]
  },
  {
   "cell_type": "code",
   "execution_count": 89,
   "id": "70658c26",
   "metadata": {},
   "outputs": [
    {
     "name": "stdout",
     "output_type": "stream",
     "text": [
      "                 Rice  Wheat  Maize\n",
      "Andhra Pradesh   35.8   76.9     75\n",
      "Gujarat         865.0  987.0     86\n",
      "Goa              87.0   98.0     86\n",
      "Kerala          876.0  987.0     77\n",
      "Sikkim           74.0   98.0     87\n",
      "Rajasthan        87.0   43.0    866\n",
      "Tripura         765.0   98.0     97\n",
      "43.0\n"
     ]
    }
   ],
   "source": [
    "iprod={'Rice':{'Andhra Pradesh':35.8,'Gujarat':865,'Goa':87.0,'Kerala':876,'Sikkim':74,'Rajasthan':87,'Tripura':765},\n",
    "      'Wheat':{'Andhra Pradesh':76.9,'Gujarat':987,'Goa':98,'Kerala':987,'Sikkim':98,'Rajasthan':43,'Tripura':98},\n",
    "      'Maize':{'Andhra Pradesh':75,'Gujarat':86,'Goa':86,'Kerala':77,'Sikkim':87,'Rajasthan':866,'Tripura':97}}\n",
    "pdf=pd.DataFrame(iprod)\n",
    "print(pdf)\n",
    "print(pdf['Wheat'].min())"
   ]
  },
  {
   "cell_type": "code",
   "execution_count": 91,
   "id": "bb8432c4",
   "metadata": {},
   "outputs": [
    {
     "name": "stdout",
     "output_type": "stream",
     "text": [
      "                 Rice  Wheat  Maize\n",
      "Andhra Pradesh   35.8   76.9     75\n",
      "Gujarat         865.0  987.0     86\n",
      "Goa              87.0   98.0     86\n",
      "Kerala          876.0  987.0     77\n",
      "Sikkim           74.0   98.0     87\n",
      "Rajasthan        87.0   43.0    866\n",
      "Tripura         765.0   98.0     97\n",
      "7\n"
     ]
    }
   ],
   "source": [
    "iprod={'Rice':{'Andhra Pradesh':35.8,'Gujarat':865,'Goa':87.0,'Kerala':876,'Sikkim':74,'Rajasthan':87,'Tripura':765},\n",
    "      'Wheat':{'Andhra Pradesh':76.9,'Gujarat':987,'Goa':98,'Kerala':987,'Sikkim':98,'Rajasthan':43,'Tripura':98},\n",
    "      'Maize':{'Andhra Pradesh':75,'Gujarat':86,'Goa':86,'Kerala':77,'Sikkim':87,'Rajasthan':866,'Tripura':97}}\n",
    "pdf=pd.DataFrame(iprod)\n",
    "print(pdf)\n",
    "print(pdf['Wheat'].count())"
   ]
  },
  {
   "cell_type": "code",
   "execution_count": 92,
   "id": "90a2103f",
   "metadata": {},
   "outputs": [
    {
     "name": "stdout",
     "output_type": "stream",
     "text": [
      "                 Rice  Wheat  Maize\n",
      "Andhra Pradesh   35.8   76.9     75\n",
      "Gujarat         865.0  987.0     86\n",
      "Goa              87.0   98.0     86\n",
      "Kerala          876.0  987.0     77\n",
      "Sikkim           74.0   98.0     87\n",
      "Rajasthan        87.0   43.0    866\n",
      "Tripura         765.0   98.0     97\n",
      "Wheat    7\n",
      "Rice     7\n",
      "dtype: int64\n"
     ]
    }
   ],
   "source": [
    "iprod={'Rice':{'Andhra Pradesh':35.8,'Gujarat':865,'Goa':87.0,'Kerala':876,'Sikkim':74,'Rajasthan':87,'Tripura':765},\n",
    "      'Wheat':{'Andhra Pradesh':76.9,'Gujarat':987,'Goa':98,'Kerala':987,'Sikkim':98,'Rajasthan':43,'Tripura':98},\n",
    "      'Maize':{'Andhra Pradesh':75,'Gujarat':86,'Goa':86,'Kerala':77,'Sikkim':87,'Rajasthan':866,'Tripura':97}}\n",
    "pdf=pd.DataFrame(iprod)\n",
    "print(pdf)\n",
    "print(pdf[['Wheat','Rice']].count())"
   ]
  },
  {
   "cell_type": "code",
   "execution_count": 93,
   "id": "cd6ad9ed",
   "metadata": {},
   "outputs": [
    {
     "name": "stdout",
     "output_type": "stream",
     "text": [
      "                 Rice  Wheat  Maize\n",
      "Andhra Pradesh   35.8   76.9     75\n",
      "Gujarat         865.0  987.0     86\n",
      "Goa              87.0   98.0     86\n",
      "Kerala          876.0  987.0     77\n",
      "Sikkim           74.0   98.0     87\n",
      "Rajasthan        87.0   43.0    866\n",
      "Tripura         765.0   98.0     97\n",
      "Andhra Pradesh    3\n",
      "Gujarat           3\n",
      "Goa               3\n",
      "Kerala            3\n",
      "Sikkim            3\n",
      "Rajasthan         3\n",
      "Tripura           3\n",
      "dtype: int64\n"
     ]
    }
   ],
   "source": [
    "iprod={'Rice':{'Andhra Pradesh':35.8,'Gujarat':865,'Goa':87.0,'Kerala':876,'Sikkim':74,'Rajasthan':87,'Tripura':765},\n",
    "      'Wheat':{'Andhra Pradesh':76.9,'Gujarat':987,'Goa':98,'Kerala':987,'Sikkim':98,'Rajasthan':43,'Tripura':98},\n",
    "      'Maize':{'Andhra Pradesh':75,'Gujarat':86,'Goa':86,'Kerala':77,'Sikkim':87,'Rajasthan':866,'Tripura':97}}\n",
    "pdf=pd.DataFrame(iprod)\n",
    "print(pdf)\n",
    "print(pdf.loc[:,:].count(axis=1))"
   ]
  },
  {
   "cell_type": "code",
   "execution_count": 94,
   "id": "16d9c188",
   "metadata": {},
   "outputs": [
    {
     "name": "stdout",
     "output_type": "stream",
     "text": [
      "                 Rice  Wheat  Maize\n",
      "Andhra Pradesh   35.8   76.9     75\n",
      "Gujarat         865.0  987.0     86\n",
      "Goa              87.0   98.0     86\n",
      "Kerala          876.0  987.0     77\n",
      "Sikkim           74.0   98.0     87\n",
      "Rajasthan        87.0   43.0    866\n",
      "Tripura         765.0   98.0     97\n",
      "Maize    7\n",
      "dtype: int64\n"
     ]
    }
   ],
   "source": [
    "iprod={'Rice':{'Andhra Pradesh':35.8,'Gujarat':865,'Goa':87.0,'Kerala':876,'Sikkim':74,'Rajasthan':87,'Tripura':765},\n",
    "      'Wheat':{'Andhra Pradesh':76.9,'Gujarat':987,'Goa':98,'Kerala':987,'Sikkim':98,'Rajasthan':43,'Tripura':98},\n",
    "      'Maize':{'Andhra Pradesh':75,'Gujarat':86,'Goa':86,'Kerala':77,'Sikkim':87,'Rajasthan':866,'Tripura':97}}\n",
    "pdf=pd.DataFrame(iprod)\n",
    "print(pdf)\n",
    "print(pdf.iloc[:,2:].count())"
   ]
  },
  {
   "cell_type": "code",
   "execution_count": 95,
   "id": "1d54db04",
   "metadata": {},
   "outputs": [
    {
     "name": "stdout",
     "output_type": "stream",
     "text": [
      "                 Rice  Wheat  Maize\n",
      "Andhra Pradesh   35.8   76.9     75\n",
      "Gujarat         865.0  987.0     86\n",
      "Goa              87.0   98.0     86\n",
      "Kerala          876.0  987.0     77\n",
      "Sikkim           74.0   98.0     87\n",
      "Rajasthan        87.0   43.0    866\n",
      "Tripura         765.0   98.0     97\n",
      "Rice     7\n",
      "Wheat    7\n",
      "Maize    7\n",
      "dtype: int64\n"
     ]
    }
   ],
   "source": [
    "iprod={'Rice':{'Andhra Pradesh':35.8,'Gujarat':865,'Goa':87.0,'Kerala':876,'Sikkim':74,'Rajasthan':87,'Tripura':765},\n",
    "      'Wheat':{'Andhra Pradesh':76.9,'Gujarat':987,'Goa':98,'Kerala':987,'Sikkim':98,'Rajasthan':43,'Tripura':98},\n",
    "      'Maize':{'Andhra Pradesh':75,'Gujarat':86,'Goa':86,'Kerala':77,'Sikkim':87,'Rajasthan':866,'Tripura':97}}\n",
    "pdf=pd.DataFrame(iprod)\n",
    "print(pdf)\n",
    "print(pdf.loc[:,:].count())"
   ]
  },
  {
   "cell_type": "code",
   "execution_count": 96,
   "id": "6a05e1b0",
   "metadata": {},
   "outputs": [
    {
     "name": "stdout",
     "output_type": "stream",
     "text": [
      "                 Rice  Wheat  Maize\n",
      "Andhra Pradesh   35.8   76.9     75\n",
      "Gujarat         865.0  987.0     86\n",
      "Goa              87.0   98.0     86\n",
      "Kerala          876.0  987.0     77\n",
      "Sikkim           74.0   98.0     87\n",
      "Rajasthan        87.0   43.0    866\n",
      "Tripura         765.0   98.0     97\n",
      "Goa          3\n",
      "Kerala       3\n",
      "Sikkim       3\n",
      "Rajasthan    3\n",
      "Tripura      3\n",
      "dtype: int64\n"
     ]
    }
   ],
   "source": [
    "iprod={'Rice':{'Andhra Pradesh':35.8,'Gujarat':865,'Goa':87.0,'Kerala':876,'Sikkim':74,'Rajasthan':87,'Tripura':765},\n",
    "      'Wheat':{'Andhra Pradesh':76.9,'Gujarat':987,'Goa':98,'Kerala':987,'Sikkim':98,'Rajasthan':43,'Tripura':98},\n",
    "      'Maize':{'Andhra Pradesh':75,'Gujarat':86,'Goa':86,'Kerala':77,'Sikkim':87,'Rajasthan':866,'Tripura':97}}\n",
    "pdf=pd.DataFrame(iprod)\n",
    "print(pdf)\n",
    "print(pdf.iloc[2:,:].count(axis=1))"
   ]
  },
  {
   "cell_type": "code",
   "execution_count": 97,
   "id": "0dc6a7bf",
   "metadata": {},
   "outputs": [
    {
     "name": "stdout",
     "output_type": "stream",
     "text": [
      "                 Rice  Wheat  Maize\n",
      "Andhra Pradesh   35.8   76.9     75\n",
      "Gujarat         865.0  987.0     86\n",
      "Goa              87.0   98.0     86\n",
      "Kerala          876.0  987.0     77\n",
      "Sikkim           74.0   98.0     87\n",
      "Rajasthan        87.0   43.0    866\n",
      "Tripura         765.0   98.0     97\n",
      "Goa        98.0\n",
      "Kerala    987.0\n",
      "dtype: float64\n"
     ]
    }
   ],
   "source": [
    "iprod={'Rice':{'Andhra Pradesh':35.8,'Gujarat':865,'Goa':87.0,'Kerala':876,'Sikkim':74,'Rajasthan':87,'Tripura':765},\n",
    "      'Wheat':{'Andhra Pradesh':76.9,'Gujarat':987,'Goa':98,'Kerala':987,'Sikkim':98,'Rajasthan':43,'Tripura':98},\n",
    "      'Maize':{'Andhra Pradesh':75,'Gujarat':86,'Goa':86,'Kerala':77,'Sikkim':87,'Rajasthan':866,'Tripura':97}}\n",
    "pdf=pd.DataFrame(iprod)\n",
    "print(pdf)\n",
    "print(pdf.iloc[2:4,:].max(axis=1))"
   ]
  },
  {
   "cell_type": "code",
   "execution_count": 105,
   "id": "d2253fbd",
   "metadata": {},
   "outputs": [
    {
     "name": "stdout",
     "output_type": "stream",
     "text": [
      "            Tutor  Classes Country\n",
      "0  Andhra Pradesh     76.9     USA\n",
      "1         Gujarat    987.0      UK\n",
      "2             Goa     98.0   Japan\n",
      "3          Kerala    987.0     USA\n",
      "4          Sikkim     98.0  Brazil\n",
      "5       Rajasthan     43.0  Canada\n",
      "6         Tripura     98.0  France\n",
      "Tutor    Andhra Pradesh   Goa  Gujarat  Kerala  Rajasthan  Sikkim  Tripura\n",
      "Country                                                                   \n",
      "Brazil              NaN   NaN      NaN     NaN        NaN    98.0      NaN\n",
      "Canada              NaN   NaN      NaN     NaN       43.0     NaN      NaN\n",
      "France              NaN   NaN      NaN     NaN        NaN     NaN     98.0\n",
      "Japan               NaN  98.0      NaN     NaN        NaN     NaN      NaN\n",
      "UK                  NaN   NaN    987.0     NaN        NaN     NaN      NaN\n",
      "USA                76.9   NaN      NaN   987.0        NaN     NaN      NaN\n"
     ]
    }
   ],
   "source": [
    "iprod={'Tutor':['Andhra Pradesh','Gujarat','Goa','Kerala','Sikkim','Rajasthan','Tripura'],\n",
    "      'Classes':[76.9,987,98,987,98,43,98],\n",
    "      'Country':['USA','UK','Japan','USA','Brazil','Canada','France']}\n",
    "pdf=pd.DataFrame(iprod)\n",
    "print(pdf)\n",
    "print(pdf.pivot(index='Country',columns='Tutor',values='Classes'))"
   ]
  },
  {
   "cell_type": "code",
   "execution_count": 106,
   "id": "6dac41f5",
   "metadata": {},
   "outputs": [
    {
     "name": "stdout",
     "output_type": "stream",
     "text": [
      "            Tutor  Classes Country\n",
      "0  Andhra Pradesh     76.9     USA\n",
      "1         Gujarat    987.0      UK\n",
      "2             Goa     98.0   Japan\n",
      "3          Kerala    987.0     USA\n",
      "4          Sikkim     98.0  Brazil\n",
      "5       Rajasthan     43.0  Canada\n",
      "6         Tripura     98.0  France\n",
      "Country         Brazil  Canada  France  Japan     UK    USA\n",
      "Tutor                                                      \n",
      "Andhra Pradesh     NaN     NaN     NaN    NaN    NaN   76.9\n",
      "Goa                NaN     NaN     NaN   98.0    NaN    NaN\n",
      "Gujarat            NaN     NaN     NaN    NaN  987.0    NaN\n",
      "Kerala             NaN     NaN     NaN    NaN    NaN  987.0\n",
      "Rajasthan          NaN    43.0     NaN    NaN    NaN    NaN\n",
      "Sikkim            98.0     NaN     NaN    NaN    NaN    NaN\n",
      "Tripura            NaN     NaN    98.0    NaN    NaN    NaN\n"
     ]
    }
   ],
   "source": [
    "iprod={'Tutor':['Andhra Pradesh','Gujarat','Goa','Kerala','Sikkim','Rajasthan','Tripura'],\n",
    "      'Classes':[76.9,987,98,987,98,43,98],\n",
    "      'Country':['USA','UK','Japan','USA','Brazil','Canada','France']}\n",
    "pdf=pd.DataFrame(iprod)\n",
    "print(pdf)\n",
    "print(pdf.pivot(index='Tutor',columns='Country',values='Classes'))"
   ]
  },
  {
   "cell_type": "code",
   "execution_count": 107,
   "id": "eb8b88bc",
   "metadata": {},
   "outputs": [
    {
     "name": "stdout",
     "output_type": "stream",
     "text": [
      "            Tutor  Classes Country\n",
      "0  Andhra Pradesh     76.9     USA\n",
      "1         Gujarat    987.0      UK\n",
      "2             Goa     98.0   Japan\n",
      "3          Kerala    987.0     USA\n",
      "4          Sikkim     98.0  Brazil\n",
      "5       Rajasthan     43.0  Canada\n",
      "6         Tripura     98.0  France\n",
      "               Classes                                  \n",
      "Country         Brazil Canada France Japan     UK    USA\n",
      "Tutor                                                   \n",
      "Andhra Pradesh     NaN    NaN    NaN   NaN    NaN   76.9\n",
      "Goa                NaN    NaN    NaN  98.0    NaN    NaN\n",
      "Gujarat            NaN    NaN    NaN   NaN  987.0    NaN\n",
      "Kerala             NaN    NaN    NaN   NaN    NaN  987.0\n",
      "Rajasthan          NaN   43.0    NaN   NaN    NaN    NaN\n",
      "Sikkim            98.0    NaN    NaN   NaN    NaN    NaN\n",
      "Tripura            NaN    NaN   98.0   NaN    NaN    NaN\n"
     ]
    }
   ],
   "source": [
    "iprod={'Tutor':['Andhra Pradesh','Gujarat','Goa','Kerala','Sikkim','Rajasthan','Tripura'],\n",
    "      'Classes':[76.9,987,98,987,98,43,98],\n",
    "      'Country':['USA','UK','Japan','USA','Brazil','Canada','France']}\n",
    "pdf=pd.DataFrame(iprod)\n",
    "print(pdf)\n",
    "print(pdf.pivot(index='Tutor',columns='Country'))"
   ]
  },
  {
   "cell_type": "code",
   "execution_count": 108,
   "id": "9f8e63d8",
   "metadata": {},
   "outputs": [
    {
     "name": "stdout",
     "output_type": "stream",
     "text": [
      "            Tutor  Classes Country\n",
      "0  Andhra Pradesh     76.9     USA\n",
      "1         Gujarat    987.0      UK\n",
      "2             Goa     98.0   Japan\n",
      "3          Kerala    987.0     USA\n",
      "4          Sikkim     98.0  Brazil\n",
      "5       Rajasthan     43.0  Canada\n",
      "6         Tripura     98.0  France\n",
      "               Classes                                  \n",
      "Country         Brazil Canada France Japan     UK    USA\n",
      "Tutor                                                   \n",
      "Andhra Pradesh     0.0    0.0    0.0   0.0    0.0   76.9\n",
      "Goa                0.0    0.0    0.0  98.0    0.0    0.0\n",
      "Gujarat            0.0    0.0    0.0   0.0  987.0    0.0\n",
      "Kerala             0.0    0.0    0.0   0.0    0.0  987.0\n",
      "Rajasthan          0.0   43.0    0.0   0.0    0.0    0.0\n",
      "Sikkim            98.0    0.0    0.0   0.0    0.0    0.0\n",
      "Tripura            0.0    0.0   98.0   0.0    0.0    0.0\n"
     ]
    }
   ],
   "source": [
    "iprod={'Tutor':['Andhra Pradesh','Gujarat','Goa','Kerala','Sikkim','Rajasthan','Tripura'],\n",
    "      'Classes':[76.9,987,98,987,98,43,98],\n",
    "      'Country':['USA','UK','Japan','USA','Brazil','Canada','France']}\n",
    "pdf=pd.DataFrame(iprod)\n",
    "print(pdf)\n",
    "print(pdf.pivot(index='Tutor',columns='Country').fillna(0))"
   ]
  },
  {
   "cell_type": "code",
   "execution_count": 113,
   "id": "eb64ca6d",
   "metadata": {},
   "outputs": [
    {
     "name": "stdout",
     "output_type": "stream",
     "text": [
      "      Tutor  Classes  Quarter Country\n",
      "0    Tahira       23        1     USA\n",
      "1   Gurjyot       54        1      UK\n",
      "2    Anusha       23        1   Japan\n",
      "3     Jacob       78        1     USA\n",
      "4    Venkat       97        1  Brazil\n",
      "5    Tahira       56        2     USA\n",
      "6   Gurjyot       34        2   Japan\n",
      "7    Anusha       56        2  Brazil\n",
      "8     Jacob       76        2     USA\n",
      "9    Venkat        6        2      UK\n",
      "10   Tahira       45        3  Brazil\n",
      "11  Gurjyot       56        3     USA\n",
      "12   Anusha       87        3      UK\n",
      "13    Jacob       44        3  Brazil\n",
      "14   Venkat       23        3     USA\n",
      "15   Tahira        4        4   Japan\n",
      "16  Gurjyot        6        4   Japan\n",
      "17   Anusha       87        4  Brazil\n",
      "18    Jacob       34        4      UK\n",
      "19   Venkat       21        4     USA\n"
     ]
    }
   ],
   "source": [
    "oututD={'Tutor':['Tahira','Gurjyot','Anusha','Jacob','Venkat',\n",
    "                 'Tahira','Gurjyot','Anusha','Jacob','Venkat',\n",
    "                 'Tahira','Gurjyot','Anusha','Jacob','Venkat',\n",
    "                 'Tahira','Gurjyot','Anusha','Jacob','Venkat',\n",
    "                ],'Classes':[23,54,23,78,97,56,34,56,76,6,45,56,87,44,23,4,6,87,34,21],\n",
    "                 'Quarter':[1,1,1,1,1,2,2,2,2,2,3,3,3,3,3,4,4,4,4,4],\n",
    "       'Country':['USA','UK','Japan','USA','Brazil','USA','Japan','Brazil','USA','UK','Brazil','USA','UK'\n",
    "                 ,'Brazil','USA','Japan','Japan','Brazil','UK','USA']\n",
    "       }\n",
    "df1=pd.DataFrame(oututD)\n",
    "print(df1)"
   ]
  },
  {
   "cell_type": "code",
   "execution_count": 114,
   "id": "02808965",
   "metadata": {},
   "outputs": [
    {
     "name": "stdout",
     "output_type": "stream",
     "text": [
      "         Classes\n",
      "Tutor           \n",
      "Anusha       253\n",
      "Gurjyot      150\n",
      "Jacob        232\n",
      "Tahira       128\n",
      "Venkat       147\n"
     ]
    }
   ],
   "source": [
    "oututD={'Tutor':['Tahira','Gurjyot','Anusha','Jacob','Venkat',\n",
    "                 'Tahira','Gurjyot','Anusha','Jacob','Venkat',\n",
    "                 'Tahira','Gurjyot','Anusha','Jacob','Venkat',\n",
    "                 'Tahira','Gurjyot','Anusha','Jacob','Venkat',\n",
    "                ],'Classes':[23,54,23,78,97,56,34,56,76,6,45,56,87,44,23,4,6,87,34,21],\n",
    "                 'Quarter':[1,1,1,1,1,2,2,2,2,2,3,3,3,3,3,4,4,4,4,4],\n",
    "       'Country':['USA','UK','Japan','USA','Brazil','USA','Japan','Brazil','USA','UK','Brazil','USA','UK'\n",
    "                 ,'Brazil','USA','Japan','Japan','Brazil','UK','USA']\n",
    "       }\n",
    "df1=pd.DataFrame(oututD)\n",
    "print(df1.pivot_table(index='Tutor',values='Classes',aggfunc='sum'))"
   ]
  },
  {
   "cell_type": "code",
   "execution_count": 115,
   "id": "df3624eb",
   "metadata": {},
   "outputs": [
    {
     "name": "stdout",
     "output_type": "stream",
     "text": [
      "         Classes\n",
      "Tutor           \n",
      "Anusha         4\n",
      "Gurjyot        4\n",
      "Jacob          4\n",
      "Tahira         4\n",
      "Venkat         4\n"
     ]
    }
   ],
   "source": [
    "oututD={'Tutor':['Tahira','Gurjyot','Anusha','Jacob','Venkat',\n",
    "                 'Tahira','Gurjyot','Anusha','Jacob','Venkat',\n",
    "                 'Tahira','Gurjyot','Anusha','Jacob','Venkat',\n",
    "                 'Tahira','Gurjyot','Anusha','Jacob','Venkat',\n",
    "                ],'Classes':[23,54,23,78,97,56,34,56,76,6,45,56,87,44,23,4,6,87,34,21],\n",
    "                 'Quarter':[1,1,1,1,1,2,2,2,2,2,3,3,3,3,3,4,4,4,4,4],\n",
    "       'Country':['USA','UK','Japan','USA','Brazil','USA','Japan','Brazil','USA','UK','Brazil','USA','UK'\n",
    "                 ,'Brazil','USA','Japan','Japan','Brazil','UK','USA']\n",
    "       }\n",
    "df1=pd.DataFrame(oututD)\n",
    "print(df1.pivot_table(index='Tutor',values='Classes',aggfunc='count'))"
   ]
  },
  {
   "cell_type": "code",
   "execution_count": 116,
   "id": "f9e598a2",
   "metadata": {},
   "outputs": [
    {
     "name": "stdout",
     "output_type": "stream",
     "text": [
      "                 Classes\n",
      "Tutor   Country         \n",
      "Anusha  Brazil       143\n",
      "        Japan         23\n",
      "        UK            87\n",
      "Gurjyot Japan         40\n",
      "        UK            54\n",
      "        USA           56\n",
      "Jacob   Brazil        44\n",
      "        UK            34\n",
      "        USA          154\n",
      "Tahira  Brazil        45\n",
      "        Japan          4\n",
      "        USA           79\n",
      "Venkat  Brazil        97\n",
      "        UK             6\n",
      "        USA           44\n"
     ]
    }
   ],
   "source": [
    "oututD={'Tutor':['Tahira','Gurjyot','Anusha','Jacob','Venkat',\n",
    "                 'Tahira','Gurjyot','Anusha','Jacob','Venkat',\n",
    "                 'Tahira','Gurjyot','Anusha','Jacob','Venkat',\n",
    "                 'Tahira','Gurjyot','Anusha','Jacob','Venkat',\n",
    "                ],'Classes':[23,54,23,78,97,56,34,56,76,6,45,56,87,44,23,4,6,87,34,21],\n",
    "                 'Quarter':[1,1,1,1,1,2,2,2,2,2,3,3,3,3,3,4,4,4,4,4],\n",
    "       'Country':['USA','UK','Japan','USA','Brazil','USA','Japan','Brazil','USA','UK','Brazil','USA','UK'\n",
    "                 ,'Brazil','USA','Japan','Japan','Brazil','UK','USA']\n",
    "       }\n",
    "df1=pd.DataFrame(oututD)\n",
    "print(df1.pivot_table(index=['Tutor','Country'],values=['Classes'],aggfunc='sum'))"
   ]
  },
  {
   "cell_type": "code",
   "execution_count": 117,
   "id": "fe2f7f88",
   "metadata": {},
   "outputs": [
    {
     "name": "stdout",
     "output_type": "stream",
     "text": [
      "                 Classes\n",
      "Tutor   Country         \n",
      "Anusha  Brazil         2\n",
      "        Japan          1\n",
      "        UK             1\n",
      "Gurjyot Japan          2\n",
      "        UK             1\n",
      "        USA            1\n",
      "Jacob   Brazil         1\n",
      "        UK             1\n",
      "        USA            2\n",
      "Tahira  Brazil         1\n",
      "        Japan          1\n",
      "        USA            2\n",
      "Venkat  Brazil         1\n",
      "        UK             1\n",
      "        USA            2\n"
     ]
    }
   ],
   "source": [
    "oututD={'Tutor':['Tahira','Gurjyot','Anusha','Jacob','Venkat',\n",
    "                 'Tahira','Gurjyot','Anusha','Jacob','Venkat',\n",
    "                 'Tahira','Gurjyot','Anusha','Jacob','Venkat',\n",
    "                 'Tahira','Gurjyot','Anusha','Jacob','Venkat',\n",
    "                ],'Classes':[23,54,23,78,97,56,34,56,76,6,45,56,87,44,23,4,6,87,34,21],\n",
    "                 'Quarter':[1,1,1,1,1,2,2,2,2,2,3,3,3,3,3,4,4,4,4,4],\n",
    "       'Country':['USA','UK','Japan','USA','Brazil','USA','Japan','Brazil','USA','UK','Brazil','USA','UK'\n",
    "                 ,'Brazil','USA','Japan','Japan','Brazil','UK','USA']\n",
    "       }\n",
    "df1=pd.DataFrame(oututD)\n",
    "print(df1.pivot_table(index=['Tutor','Country'],values=['Classes'],aggfunc='count'))"
   ]
  },
  {
   "cell_type": "code",
   "execution_count": 120,
   "id": "8341e7da",
   "metadata": {},
   "outputs": [
    {
     "name": "stdout",
     "output_type": "stream",
     "text": [
      "      Tutor  Classes  Quarter Country\n",
      "17   Anusha       87        4  Brazil\n",
      "4    Venkat       97        1  Brazil\n",
      "7    Anusha       56        2  Brazil\n",
      "10   Tahira       45        3  Brazil\n",
      "13    Jacob       44        3  Brazil\n",
      "2    Anusha       23        1   Japan\n",
      "16  Gurjyot        6        4   Japan\n",
      "6   Gurjyot       34        2   Japan\n",
      "15   Tahira        4        4   Japan\n",
      "9    Venkat        6        2      UK\n",
      "1   Gurjyot       54        1      UK\n",
      "18    Jacob       34        4      UK\n",
      "12   Anusha       87        3      UK\n",
      "14   Venkat       23        3     USA\n",
      "0    Tahira       23        1     USA\n",
      "8     Jacob       76        2     USA\n",
      "5    Tahira       56        2     USA\n",
      "3     Jacob       78        1     USA\n",
      "11  Gurjyot       56        3     USA\n",
      "19   Venkat       21        4     USA\n",
      "      Tutor  Classes  Quarter Country\n",
      "2    Anusha       23        1   Japan\n",
      "17   Anusha       87        4  Brazil\n",
      "7    Anusha       56        2  Brazil\n",
      "12   Anusha       87        3      UK\n",
      "1   Gurjyot       54        1      UK\n",
      "6   Gurjyot       34        2   Japan\n",
      "11  Gurjyot       56        3     USA\n",
      "16  Gurjyot        6        4   Japan\n",
      "3     Jacob       78        1     USA\n",
      "8     Jacob       76        2     USA\n",
      "18    Jacob       34        4      UK\n",
      "13    Jacob       44        3  Brazil\n",
      "0    Tahira       23        1     USA\n",
      "5    Tahira       56        2     USA\n",
      "10   Tahira       45        3  Brazil\n",
      "15   Tahira        4        4   Japan\n",
      "9    Venkat        6        2      UK\n",
      "4    Venkat       97        1  Brazil\n",
      "14   Venkat       23        3     USA\n",
      "19   Venkat       21        4     USA\n"
     ]
    }
   ],
   "source": [
    "oututD={'Tutor':['Tahira','Gurjyot','Anusha','Jacob','Venkat',\n",
    "                 'Tahira','Gurjyot','Anusha','Jacob','Venkat',\n",
    "                 'Tahira','Gurjyot','Anusha','Jacob','Venkat',\n",
    "                 'Tahira','Gurjyot','Anusha','Jacob','Venkat',\n",
    "                ],'Classes':[23,54,23,78,97,56,34,56,76,6,45,56,87,44,23,4,6,87,34,21],\n",
    "                 'Quarter':[1,1,1,1,1,2,2,2,2,2,3,3,3,3,3,4,4,4,4,4],\n",
    "       'Country':['USA','UK','Japan','USA','Brazil','USA','Japan','Brazil','USA','UK','Brazil','USA','UK'\n",
    "                 ,'Brazil','USA','Japan','Japan','Brazil','UK','USA']\n",
    "       }\n",
    "df1=pd.DataFrame(oututD)\n",
    "print(df1.sort_values('Country'))"
   ]
  },
  {
   "cell_type": "code",
   "execution_count": 121,
   "id": "38c54bae",
   "metadata": {},
   "outputs": [
    {
     "name": "stdout",
     "output_type": "stream",
     "text": [
      "      Tutor  Classes  Quarter Country\n",
      "2    Anusha       23        1   Japan\n",
      "17   Anusha       87        4  Brazil\n",
      "7    Anusha       56        2  Brazil\n",
      "12   Anusha       87        3      UK\n",
      "1   Gurjyot       54        1      UK\n",
      "6   Gurjyot       34        2   Japan\n",
      "11  Gurjyot       56        3     USA\n",
      "16  Gurjyot        6        4   Japan\n",
      "3     Jacob       78        1     USA\n",
      "8     Jacob       76        2     USA\n",
      "18    Jacob       34        4      UK\n",
      "13    Jacob       44        3  Brazil\n",
      "0    Tahira       23        1     USA\n",
      "5    Tahira       56        2     USA\n",
      "10   Tahira       45        3  Brazil\n",
      "15   Tahira        4        4   Japan\n",
      "9    Venkat        6        2      UK\n",
      "4    Venkat       97        1  Brazil\n",
      "14   Venkat       23        3     USA\n",
      "19   Venkat       21        4     USA\n"
     ]
    }
   ],
   "source": [
    "oututD={'Tutor':['Tahira','Gurjyot','Anusha','Jacob','Venkat',\n",
    "                 'Tahira','Gurjyot','Anusha','Jacob','Venkat',\n",
    "                 'Tahira','Gurjyot','Anusha','Jacob','Venkat',\n",
    "                 'Tahira','Gurjyot','Anusha','Jacob','Venkat',\n",
    "                ],'Classes':[23,54,23,78,97,56,34,56,76,6,45,56,87,44,23,4,6,87,34,21],\n",
    "                 'Quarter':[1,1,1,1,1,2,2,2,2,2,3,3,3,3,3,4,4,4,4,4],\n",
    "       'Country':['USA','UK','Japan','USA','Brazil','USA','Japan','Brazil','USA','UK','Brazil','USA','UK'\n",
    "                 ,'Brazil','USA','Japan','Japan','Brazil','UK','USA']\n",
    "       }\n",
    "df1=pd.DataFrame(oututD)\n",
    "print(df1.sort_values('Tutor'))"
   ]
  },
  {
   "cell_type": "code",
   "execution_count": 123,
   "id": "f8aec818",
   "metadata": {},
   "outputs": [
    {
     "name": "stdout",
     "output_type": "stream",
     "text": [
      "      Tutor  Classes  Quarter Country\n",
      "7    Anusha       56        2  Brazil\n",
      "17   Anusha       87        4  Brazil\n",
      "13    Jacob       44        3  Brazil\n",
      "10   Tahira       45        3  Brazil\n",
      "4    Venkat       97        1  Brazil\n",
      "2    Anusha       23        1   Japan\n",
      "6   Gurjyot       34        2   Japan\n",
      "16  Gurjyot        6        4   Japan\n",
      "15   Tahira        4        4   Japan\n",
      "12   Anusha       87        3      UK\n",
      "1   Gurjyot       54        1      UK\n",
      "18    Jacob       34        4      UK\n",
      "9    Venkat        6        2      UK\n",
      "11  Gurjyot       56        3     USA\n",
      "3     Jacob       78        1     USA\n",
      "8     Jacob       76        2     USA\n",
      "0    Tahira       23        1     USA\n",
      "5    Tahira       56        2     USA\n",
      "14   Venkat       23        3     USA\n",
      "19   Venkat       21        4     USA\n"
     ]
    }
   ],
   "source": [
    "oututD={'Tutor':['Tahira','Gurjyot','Anusha','Jacob','Venkat',\n",
    "                 'Tahira','Gurjyot','Anusha','Jacob','Venkat',\n",
    "                 'Tahira','Gurjyot','Anusha','Jacob','Venkat',\n",
    "                 'Tahira','Gurjyot','Anusha','Jacob','Venkat',\n",
    "                ],'Classes':[23,54,23,78,97,56,34,56,76,6,45,56,87,44,23,4,6,87,34,21],\n",
    "                 'Quarter':[1,1,1,1,1,2,2,2,2,2,3,3,3,3,3,4,4,4,4,4],\n",
    "       'Country':['USA','UK','Japan','USA','Brazil','USA','Japan','Brazil','USA','UK','Brazil','USA','UK'\n",
    "                 ,'Brazil','USA','Japan','Japan','Brazil','UK','USA']\n",
    "       }\n",
    "df1=pd.DataFrame(oututD)\n",
    "print(df1.sort_values(['Country','Tutor']))"
   ]
  },
  {
   "cell_type": "code",
   "execution_count": 124,
   "id": "4c3ac78c",
   "metadata": {},
   "outputs": [
    {
     "name": "stdout",
     "output_type": "stream",
     "text": [
      "      Tutor  Classes  Quarter Country\n",
      "7    Anusha       56        2  Brazil\n",
      "17   Anusha       87        4  Brazil\n",
      "2    Anusha       23        1   Japan\n",
      "12   Anusha       87        3      UK\n",
      "6   Gurjyot       34        2   Japan\n",
      "16  Gurjyot        6        4   Japan\n",
      "1   Gurjyot       54        1      UK\n",
      "11  Gurjyot       56        3     USA\n",
      "13    Jacob       44        3  Brazil\n",
      "18    Jacob       34        4      UK\n",
      "3     Jacob       78        1     USA\n",
      "8     Jacob       76        2     USA\n",
      "10   Tahira       45        3  Brazil\n",
      "15   Tahira        4        4   Japan\n",
      "0    Tahira       23        1     USA\n",
      "5    Tahira       56        2     USA\n",
      "4    Venkat       97        1  Brazil\n",
      "9    Venkat        6        2      UK\n",
      "14   Venkat       23        3     USA\n",
      "19   Venkat       21        4     USA\n"
     ]
    }
   ],
   "source": [
    "oututD={'Tutor':['Tahira','Gurjyot','Anusha','Jacob','Venkat',\n",
    "                 'Tahira','Gurjyot','Anusha','Jacob','Venkat',\n",
    "                 'Tahira','Gurjyot','Anusha','Jacob','Venkat',\n",
    "                 'Tahira','Gurjyot','Anusha','Jacob','Venkat',\n",
    "                ],'Classes':[23,54,23,78,97,56,34,56,76,6,45,56,87,44,23,4,6,87,34,21],\n",
    "                 'Quarter':[1,1,1,1,1,2,2,2,2,2,3,3,3,3,3,4,4,4,4,4],\n",
    "       'Country':['USA','UK','Japan','USA','Brazil','USA','Japan','Brazil','USA','UK','Brazil','USA','UK'\n",
    "                 ,'Brazil','USA','Japan','Japan','Brazil','UK','USA']\n",
    "       }\n",
    "df1=pd.DataFrame(oututD)\n",
    "print(df1.sort_values(by=['Tutor','Country']))"
   ]
  },
  {
   "cell_type": "code",
   "execution_count": 125,
   "id": "e64cf4c7",
   "metadata": {},
   "outputs": [
    {
     "name": "stdout",
     "output_type": "stream",
     "text": [
      "      Tutor  Classes  Quarter Country\n",
      "14   Venkat       23        3     USA\n",
      "19   Venkat       21        4     USA\n",
      "9    Venkat        6        2      UK\n",
      "4    Venkat       97        1  Brazil\n",
      "0    Tahira       23        1     USA\n",
      "5    Tahira       56        2     USA\n",
      "15   Tahira        4        4   Japan\n",
      "10   Tahira       45        3  Brazil\n",
      "3     Jacob       78        1     USA\n",
      "8     Jacob       76        2     USA\n",
      "18    Jacob       34        4      UK\n",
      "13    Jacob       44        3  Brazil\n",
      "11  Gurjyot       56        3     USA\n",
      "1   Gurjyot       54        1      UK\n",
      "6   Gurjyot       34        2   Japan\n",
      "16  Gurjyot        6        4   Japan\n",
      "12   Anusha       87        3      UK\n",
      "2    Anusha       23        1   Japan\n",
      "7    Anusha       56        2  Brazil\n",
      "17   Anusha       87        4  Brazil\n"
     ]
    }
   ],
   "source": [
    "oututD={'Tutor':['Tahira','Gurjyot','Anusha','Jacob','Venkat',\n",
    "                 'Tahira','Gurjyot','Anusha','Jacob','Venkat',\n",
    "                 'Tahira','Gurjyot','Anusha','Jacob','Venkat',\n",
    "                 'Tahira','Gurjyot','Anusha','Jacob','Venkat',\n",
    "                ],'Classes':[23,54,23,78,97,56,34,56,76,6,45,56,87,44,23,4,6,87,34,21],\n",
    "                 'Quarter':[1,1,1,1,1,2,2,2,2,2,3,3,3,3,3,4,4,4,4,4],\n",
    "       'Country':['USA','UK','Japan','USA','Brazil','USA','Japan','Brazil','USA','UK','Brazil','USA','UK'\n",
    "                 ,'Brazil','USA','Japan','Japan','Brazil','UK','USA']\n",
    "       }\n",
    "df1=pd.DataFrame(oututD)\n",
    "print(df1.sort_values(by=['Tutor','Country'],ascending=False))"
   ]
  },
  {
   "cell_type": "code",
   "execution_count": 126,
   "id": "8af03b07",
   "metadata": {},
   "outputs": [
    {
     "name": "stdout",
     "output_type": "stream",
     "text": [
      "      Tutor  Classes  Quarter Country\n",
      "19   Venkat       21        4     USA\n",
      "18    Jacob       34        4      UK\n",
      "17   Anusha       87        4  Brazil\n",
      "16  Gurjyot        6        4   Japan\n",
      "15   Tahira        4        4   Japan\n",
      "14   Venkat       23        3     USA\n",
      "13    Jacob       44        3  Brazil\n",
      "12   Anusha       87        3      UK\n",
      "11  Gurjyot       56        3     USA\n",
      "10   Tahira       45        3  Brazil\n",
      "9    Venkat        6        2      UK\n",
      "8     Jacob       76        2     USA\n",
      "7    Anusha       56        2  Brazil\n",
      "6   Gurjyot       34        2   Japan\n",
      "5    Tahira       56        2     USA\n",
      "4    Venkat       97        1  Brazil\n",
      "3     Jacob       78        1     USA\n",
      "2    Anusha       23        1   Japan\n",
      "1   Gurjyot       54        1      UK\n",
      "0    Tahira       23        1     USA\n"
     ]
    }
   ],
   "source": [
    "oututD={'Tutor':['Tahira','Gurjyot','Anusha','Jacob','Venkat',\n",
    "                 'Tahira','Gurjyot','Anusha','Jacob','Venkat',\n",
    "                 'Tahira','Gurjyot','Anusha','Jacob','Venkat',\n",
    "                 'Tahira','Gurjyot','Anusha','Jacob','Venkat',\n",
    "                ],'Classes':[23,54,23,78,97,56,34,56,76,6,45,56,87,44,23,4,6,87,34,21],\n",
    "                 'Quarter':[1,1,1,1,1,2,2,2,2,2,3,3,3,3,3,4,4,4,4,4],\n",
    "       'Country':['USA','UK','Japan','USA','Brazil','USA','Japan','Brazil','USA','UK','Brazil','USA','UK'\n",
    "                 ,'Brazil','USA','Japan','Japan','Brazil','UK','USA']\n",
    "       }\n",
    "df1=pd.DataFrame(oututD)\n",
    "print(df1.sort_index(ascending=False))"
   ]
  },
  {
   "cell_type": "code",
   "execution_count": 127,
   "id": "34dfdffd",
   "metadata": {},
   "outputs": [
    {
     "name": "stdout",
     "output_type": "stream",
     "text": [
      "Classes    23.75\n",
      "Quarter     1.00\n",
      "dtype: float64\n"
     ]
    }
   ],
   "source": [
    "oututD={'Tutor':['Tahira','Gurjyot','Anusha','Jacob','Venkat',\n",
    "                 'Tahira','Gurjyot','Anusha','Jacob','Venkat',\n",
    "                 'Tahira','Gurjyot','Anusha','Jacob','Venkat',\n",
    "                 'Tahira','Gurjyot','Anusha','Jacob','Venkat',\n",
    "                ],'Classes':[23,54,23,78,97,56,34,56,76,6,45,56,87,44,23,4,6,87,34,21],\n",
    "                 'Quarter':[1,1,1,1,1,2,2,2,2,2,3,3,3,3,3,4,4,4,4,4],\n",
    "       'Country':['USA','UK','Japan','USA','Brazil','USA','Japan','Brazil','USA','UK','Brazil','USA','UK'\n",
    "                 ,'Brazil','USA','Japan','Japan','Brazil','UK','USA']\n",
    "       }\n",
    "df1=pd.DataFrame(oututD)\n",
    "print(df1.mad())"
   ]
  },
  {
   "cell_type": "code",
   "execution_count": 128,
   "id": "e5ebc344",
   "metadata": {},
   "outputs": [
    {
     "name": "stdout",
     "output_type": "stream",
     "text": [
      "[[<AxesSubplot:title={'center':'Classes'}>\n",
      "  <AxesSubplot:title={'center':'Quarter'}>]]\n"
     ]
    },
    {
     "data": {
      "image/png": "[encoded data removed]",
      "text/plain": [
       "<Figure size 432x288 with 2 Axes>"
      ]
     },
     "metadata": {
      "needs_background": "light"
     },
     "output_type": "display_data"
    }
   ],
   "source": [
    "oututD={'Tutor':['Tahira','Gurjyot','Anusha','Jacob','Venkat',\n",
    "                 'Tahira','Gurjyot','Anusha','Jacob','Venkat',\n",
    "                 'Tahira','Gurjyot','Anusha','Jacob','Venkat',\n",
    "                 'Tahira','Gurjyot','Anusha','Jacob','Venkat',\n",
    "                ],'Classes':[23,54,23,78,97,56,34,56,76,6,45,56,87,44,23,4,6,87,34,21],\n",
    "                 'Quarter':[1,1,1,1,1,2,2,2,2,2,3,3,3,3,3,4,4,4,4,4],\n",
    "       'Country':['USA','UK','Japan','USA','Brazil','USA','Japan','Brazil','USA','UK','Brazil','USA','UK'\n",
    "                 ,'Brazil','USA','Japan','Japan','Brazil','UK','USA']\n",
    "       }\n",
    "df1=pd.DataFrame(oututD)\n",
    "print(df1.hist())"
   ]
  },
  {
   "cell_type": "code",
   "execution_count": 129,
   "id": "e6538dbe",
   "metadata": {},
   "outputs": [
    {
     "name": "stdout",
     "output_type": "stream",
     "text": [
      "[[<AxesSubplot:title={'center':'Classes'}>]]\n"
     ]
    },
    {
     "data": {
      "image/png": "[encoded data removed]",
      "text/plain": [
       "<Figure size 432x288 with 1 Axes>"
      ]
     },
     "metadata": {
      "needs_background": "light"
     },
     "output_type": "display_data"
    }
   ],
   "source": [
    "oututD={'Tutor':['Tahira','Gurjyot','Anusha','Jacob','Venkat',\n",
    "                 'Tahira','Gurjyot','Anusha','Jacob','Venkat',\n",
    "                 'Tahira','Gurjyot','Anusha','Jacob','Venkat',\n",
    "                 'Tahira','Gurjyot','Anusha','Jacob','Venkat',\n",
    "                ],'Classes':[23,54,23,78,97,56,34,56,76,6,45,56,87,44,23,4,6,87,34,21],\n",
    "                 'Quarter':[1,1,1,1,1,2,2,2,2,2,3,3,3,3,3,4,4,4,4,4],\n",
    "       'Country':['USA','UK','Japan','USA','Brazil','USA','Japan','Brazil','USA','UK','Brazil','USA','UK'\n",
    "                 ,'Brazil','USA','Japan','Japan','Brazil','UK','USA']\n",
    "       }\n",
    "df1=pd.DataFrame(oututD)\n",
    "print(df1.hist(column=\"Classes\"))"
   ]
  },
  {
   "cell_type": "code",
   "execution_count": 132,
   "id": "25f94bd2",
   "metadata": {},
   "outputs": [
    {
     "name": "stdout",
     "output_type": "stream",
     "text": [
      "[[<AxesSubplot:title={'center':'Quarter'}>]]\n"
     ]
    },
    {
     "data": {
      "image/png": "[encoded data removed]",
      "text/plain": [
       "<Figure size 432x288 with 1 Axes>"
      ]
     },
     "metadata": {
      "needs_background": "light"
     },
     "output_type": "display_data"
    }
   ],
   "source": [
    "oututD={'Tutor':['Tahira','Gurjyot','Anusha','Jacob','Venkat',\n",
    "                 'Tahira','Gurjyot','Anusha','Jacob','Venkat',\n",
    "                 'Tahira','Gurjyot','Anusha','Jacob','Venkat',\n",
    "                 'Tahira','Gurjyot','Anusha','Jacob','Venkat',\n",
    "                ],'Classes':[23,54,23,78,97,56,34,56,76,6,45,56,87,44,23,4,6,87,34,21],\n",
    "                 'Quarter':[1,1,1,1,1,2,2,2,2,2,3,3,3,3,3,4,4,4,4,4],\n",
    "       'Country':['USA','UK','Japan','USA','Brazil','USA','Japan','Brazil','USA','UK','Brazil','USA','UK'\n",
    "                 ,'Brazil','USA','Japan','Japan','Brazil','UK','USA']\n",
    "       }\n",
    "df1=pd.DataFrame(oututD)\n",
    "print(df1.hist(column='Quarter'))"
   ]
  },
  {
   "cell_type": "code",
   "execution_count": 133,
   "id": "06750a03",
   "metadata": {},
   "outputs": [
    {
     "name": "stdout",
     "output_type": "stream",
     "text": [
      "            Tutor  Classes Country\n",
      "0  Andhra Pradesh     76.9     USA\n",
      "1         Gujarat    987.0      UK\n",
      "2             Goa     98.0   Japan\n",
      "3          Kerala    987.0     USA\n",
      "4          Sikkim     98.0  Brazil\n",
      "5       Rajasthan     43.0  Canada\n",
      "6         Tripura     98.0  France\n",
      "   Tutor  Classes  Country\n",
      "0  False    False    False\n",
      "1  False    False    False\n",
      "2  False    False    False\n",
      "3  False    False    False\n",
      "4  False    False    False\n",
      "5  False    False    False\n",
      "6  False    False    False\n"
     ]
    }
   ],
   "source": [
    "iprod={'Tutor':['Andhra Pradesh','Gujarat','Goa','Kerala','Sikkim','Rajasthan','Tripura'],\n",
    "      'Classes':[76.9,987,98,987,98,43,98],\n",
    "      'Country':['USA','UK','Japan','USA','Brazil','Canada','France']}\n",
    "pdf=pd.DataFrame(iprod)\n",
    "print(pdf)\n",
    "print(pdf.isnull())"
   ]
  },
  {
   "cell_type": "code",
   "execution_count": 134,
   "id": "916028ae",
   "metadata": {},
   "outputs": [
    {
     "name": "stdout",
     "output_type": "stream",
     "text": [
      "            Tutor  Classes Country\n",
      "0  Andhra Pradesh     76.9     USA\n",
      "1         Gujarat    987.0      UK\n",
      "2             Goa     98.0   Japan\n",
      "3          Kerala    987.0     USA\n",
      "4          Sikkim     98.0  Brazil\n",
      "5       Rajasthan     43.0  Canada\n",
      "6         Tripura     98.0  France\n",
      "   Tutor  Classes  Country\n",
      "0   True     True     True\n",
      "1   True     True     True\n",
      "2   True     True     True\n",
      "3   True     True     True\n",
      "4   True     True     True\n",
      "5   True     True     True\n",
      "6   True     True     True\n"
     ]
    }
   ],
   "source": [
    "iprod={'Tutor':['Andhra Pradesh','Gujarat','Goa','Kerala','Sikkim','Rajasthan','Tripura'],\n",
    "      'Classes':[76.9,987,98,987,98,43,98],\n",
    "      'Country':['USA','UK','Japan','USA','Brazil','Canada','France']}\n",
    "pdf=pd.DataFrame(iprod)\n",
    "print(pdf)\n",
    "print(pdf.notnull())"
   ]
  },
  {
   "cell_type": "code",
   "execution_count": 135,
   "id": "4e9b283e",
   "metadata": {},
   "outputs": [
    {
     "name": "stdout",
     "output_type": "stream",
     "text": [
      "            Tutor  Classes Country\n",
      "0  Andhra Pradesh     76.9     USA\n",
      "1         Gujarat    987.0      UK\n",
      "2             Goa     98.0   Japan\n",
      "3          Kerala    987.0     USA\n",
      "4          Sikkim     98.0  Brazil\n",
      "5       Rajasthan     43.0  Canada\n",
      "6         Tripura     98.0  France\n"
     ]
    }
   ],
   "source": [
    "iprod={'Tutor':['Andhra Pradesh','Gujarat','Goa','Kerala','Sikkim','Rajasthan','Tripura'],\n",
    "      'Classes':[76.9,987,98,987,98,43,98],\n",
    "      'Country':['USA','UK','Japan','USA','Brazil','Canada','France']}\n",
    "pdf=pd.DataFrame(iprod)\n",
    "pdf1=pdf.dropna()\n",
    "print(pdf1)"
   ]
  },
  {
   "cell_type": "code",
   "execution_count": 136,
   "id": "9f628349",
   "metadata": {},
   "outputs": [
    {
     "name": "stdout",
     "output_type": "stream",
     "text": [
      "            Tutor  Classes Country\n",
      "0  Andhra Pradesh     76.9     USA\n",
      "1         Gujarat    987.0      UK\n",
      "2             Goa     98.0   Japan\n",
      "3          Kerala    987.0     USA\n",
      "4          Sikkim     98.0  Brazil\n",
      "5       Rajasthan     43.0  Canada\n",
      "6         Tripura     98.0  France\n"
     ]
    }
   ],
   "source": [
    "iprod={'Tutor':['Andhra Pradesh','Gujarat','Goa','Kerala','Sikkim','Rajasthan','Tripura'],\n",
    "      'Classes':[76.9,987,98,987,98,43,98],\n",
    "      'Country':['USA','UK','Japan','USA','Brazil','Canada','France']}\n",
    "pdf=pd.DataFrame(iprod)\n",
    "pdf1=pdf.dropna(how='all')\n",
    "print(pdf1)"
   ]
  },
  {
   "cell_type": "code",
   "execution_count": 137,
   "id": "fcaaaf97",
   "metadata": {},
   "outputs": [
    {
     "name": "stdout",
     "output_type": "stream",
     "text": [
      "            Tutor  Classes Country\n",
      "0  Andhra Pradesh     76.9     USA\n",
      "1         Gujarat    987.0      UK\n",
      "2             Goa     98.0   Japan\n",
      "3          Kerala    987.0     USA\n",
      "4          Sikkim     98.0  Brazil\n",
      "5       Rajasthan     43.0  Canada\n",
      "6         Tripura     98.0  France\n"
     ]
    }
   ],
   "source": [
    "iprod={'Tutor':['Andhra Pradesh','Gujarat','Goa','Kerala','Sikkim','Rajasthan','Tripura'],\n",
    "      'Classes':[76.9,987,98,987,98,43,98],\n",
    "      'Country':['USA','UK','Japan','USA','Brazil','Canada','France']}\n",
    "pdf=pd.DataFrame(iprod)\n",
    "pdf1=pdf.dropna(axis=1)\n",
    "print(pdf1)\n"
   ]
  },
  {
   "cell_type": "code",
   "execution_count": 145,
   "id": "50585e1c",
   "metadata": {},
   "outputs": [
    {
     "name": "stdout",
     "output_type": "stream",
     "text": [
      "            Tutor  Classes Country\n",
      "0  Andhra Pradesh     76.9     USA\n",
      "1         Gujarat    987.0      UK\n",
      "2             Goa     98.0   Japan\n",
      "3          Kerala    987.0     USA\n",
      "4          Sikkim     98.0  Brazil\n",
      "5       Rajasthan     43.0  Canada\n",
      "6         Tripura     98.0  France\n"
     ]
    }
   ],
   "source": [
    "iprod={'Tutor':['Andhra Pradesh','Gujarat','Goa','Kerala','Sikkim','Rajasthan','Tripura'],\n",
    "      'Classes':[76.9,987,98,987,98,43,98],\n",
    "      'Country':['USA','UK','Japan','USA','Brazil','Canada','France']}\n",
    "pdf=pd.DataFrame(iprod)\n",
    "pdf1=pdf.fillna(fillValues)\n",
    "print(pdf1)"
   ]
  },
  {
   "cell_type": "code",
   "execution_count": 146,
   "id": "e9d4b5ed",
   "metadata": {},
   "outputs": [
    {
     "name": "stdout",
     "output_type": "stream",
     "text": [
      "            Tutor  Classes Country\n",
      "0  Andhra Pradesh     76.9     USA\n",
      "1         Gujarat    987.0      UK\n",
      "2             Goa     98.0   Japan\n",
      "3          Kerala    987.0     USA\n",
      "4          Sikkim     98.0  Brazil\n",
      "5       Rajasthan     43.0  Canada\n",
      "6         Tripura     98.0  France\n",
      "            Tutor  Classes Country\n",
      "0  Andhra Pradesh     76.9     USA\n",
      "1         Gujarat    987.0      UK\n",
      "2             Goa     98.0   Japan\n",
      "3          Kerala    987.0     USA\n",
      "4          Sikkim     98.0  Brazil\n",
      "5       Rajasthan     43.0  Canada\n",
      "6         Tripura     98.0  France\n"
     ]
    }
   ],
   "source": [
    "fillValues={\n",
    "    ...:'Tutor':'Punjab',\n",
    "    ...:'Classes':87.5,\n",
    "    ...:'Country':'Russia',\n",
    "    ...:\n",
    "}\n",
    "iprod={'Tutor':['Andhra Pradesh','Gujarat','Goa','Kerala','Sikkim','Rajasthan','Tripura'],\n",
    "      'Classes':[76.9,987,98,987,98,43,98],\n",
    "      'Country':['USA','UK','Japan','USA','Brazil','Canada','France']}\n",
    "pdf=pd.DataFrame(iprod)\n",
    "print(pdf)\n",
    "pdf1=pdf.fillna(fillValues)\n",
    "print(pdf1)\n",
    "\n"
   ]
  },
  {
   "cell_type": "code",
   "execution_count": 148,
   "id": "2e901468",
   "metadata": {},
   "outputs": [
    {
     "name": "stdout",
     "output_type": "stream",
     "text": [
      "            Tutor  Classes Country\n",
      "0  Andhra Pradesh     76.9     USA\n",
      "1         Gujarat    987.0      UK\n",
      "2             Goa     98.0   Japan\n",
      "3          Kerala    987.0     USA\n",
      "4          Sikkim     98.0  Brazil\n",
      "5       Rajasthan     43.0  Canada\n",
      "6         Tripura     98.0  France\n",
      "            Tutor  Classes Country\n",
      "0  Andhra Pradesh     76.9     USA\n",
      "1         Gujarat    987.0      UK\n",
      "2             Goa     98.0   Japan\n",
      "3          Kerala    987.0     USA\n",
      "4          Sikkim     98.0  Brazil\n",
      "5       Rajasthan     43.0  Canada\n",
      "6         Tripura     98.0  France\n"
     ]
    }
   ],
   "source": [
    "iprod={'Tutor':['Andhra Pradesh','Gujarat','Goa','Kerala','Sikkim','Rajasthan','Tripura'],\n",
    "      'Classes':[76.9,987,98,987,98,43,98],\n",
    "      'Country':['USA','UK','Japan','USA','Brazil','Canada','France']}\n",
    "pdf=pd.DataFrame(iprod)\n",
    "print(pdf)\n",
    "pdf1=pdf.fillna({'Classes':76,'Country':'Russia'})\n",
    "print(pdf1)"
   ]
  },
  {
   "cell_type": "code",
   "execution_count": 151,
   "id": "c27803e1",
   "metadata": {},
   "outputs": [
    {
     "name": "stdout",
     "output_type": "stream",
     "text": [
      "                 Rice  Wheat  Maize\n",
      "Andhra Pradesh   35.8   76.9     75\n",
      "Gujarat         865.0  987.0     86\n",
      "Goa              87.0   98.0     86\n",
      "Kerala          876.0  987.0     77\n",
      "Sikkim           74.0   98.0     87\n",
      "Rajasthan        87.0   43.0    866\n",
      "Tripura         765.0   98.0     97\n",
      "                 Rice  Wheat  Maize\n",
      "Andhra Pradesh  365.0    7.9      5\n",
      "Gujarat         871.0    7.0      6\n",
      "Goa              81.0    8.0      8\n",
      "Kerala           76.0   97.0    717\n",
      "Sikkim           84.0    8.0    837\n",
      "Rajasthan        83.0    3.0     86\n",
      "Tripura          65.0    8.0     97\n",
      "                 Rice  Wheat  Maize\n",
      "Andhra Pradesh   35.8   76.9     75\n",
      "Gujarat         865.0  987.0     86\n",
      "Goa              87.0   98.0     86\n",
      "Kerala          876.0  987.0     77\n",
      "Sikkim           74.0   98.0     87\n",
      "Rajasthan        87.0   43.0    866\n",
      "Tripura         765.0   98.0     97\n",
      "Andhra Pradesh  365.0    7.9      5\n",
      "Gujarat         871.0    7.0      6\n",
      "Goa              81.0    8.0      8\n",
      "Kerala           76.0   97.0    717\n",
      "Sikkim           84.0    8.0    837\n",
      "Rajasthan        83.0    3.0     86\n",
      "Tripura          65.0    8.0     97\n"
     ]
    }
   ],
   "source": [
    "iprod={'Rice':{'Andhra Pradesh':35.8,'Gujarat':865,'Goa':87.0,'Kerala':876,'Sikkim':74,'Rajasthan':87,'Tripura':765},\n",
    "      'Wheat':{'Andhra Pradesh':76.9,'Gujarat':987,'Goa':98,'Kerala':987,'Sikkim':98,'Rajasthan':43,'Tripura':98},\n",
    "      'Maize':{'Andhra Pradesh':75,'Gujarat':86,'Goa':86,'Kerala':77,'Sikkim':87,'Rajasthan':866,'Tripura':97}}\n",
    "pdf=pd.DataFrame(iprod)\n",
    "print(pdf)\n",
    "iprod1={'Rice':{'Andhra Pradesh':365,'Gujarat':871,'Goa':81.0,'Kerala':76,'Sikkim':84,'Rajasthan':83,'Tripura':65},\n",
    "      'Wheat':{'Andhra Pradesh':7.9,'Gujarat':7,'Goa':8,'Kerala':97,'Sikkim':8,'Rajasthan':3,'Tripura':8},\n",
    "      'Maize':{'Andhra Pradesh':5,'Gujarat':6,'Goa':8,'Kerala':717,'Sikkim':837,'Rajasthan':86,'Tripura':97}}\n",
    "pdf1=pd.DataFrame(iprod1)\n",
    "print(pdf1)\n",
    "pdf3=pd.concat([pdf,pdf1])\n",
    "print(pdf3)"
   ]
  },
  {
   "cell_type": "code",
   "execution_count": 152,
   "id": "19b43d34",
   "metadata": {},
   "outputs": [
    {
     "name": "stdout",
     "output_type": "stream",
     "text": [
      "                 Rice  Wheat  Maize\n",
      "Andhra Pradesh   35.8   76.9     75\n",
      "Gujarat         865.0  987.0     86\n",
      "Goa              87.0   98.0     86\n",
      "Kerala          876.0  987.0     77\n",
      "Sikkim           74.0   98.0     87\n",
      "Rajasthan        87.0   43.0    866\n",
      "Tripura         765.0   98.0     97\n",
      "                 Rice  Wheat  Maize\n",
      "Andhra Pradesh  365.0    7.9      5\n",
      "Gujarat         871.0    7.0      6\n",
      "Goa              81.0    8.0      8\n",
      "Kerala           76.0   97.0    717\n",
      "Sikkim           84.0    8.0    837\n",
      "Rajasthan        83.0    3.0     86\n",
      "Tripura          65.0    8.0     97\n",
      "                 Rice  Wheat  Maize\n",
      "Andhra Pradesh   35.8   76.9     75\n",
      "Gujarat         865.0  987.0     86\n",
      "Goa              87.0   98.0     86\n",
      "Kerala          876.0  987.0     77\n",
      "Sikkim           74.0   98.0     87\n",
      "Rajasthan        87.0   43.0    866\n",
      "Tripura         765.0   98.0     97\n"
     ]
    }
   ],
   "source": [
    "iprod={'Rice':{'Andhra Pradesh':35.8,'Gujarat':865,'Goa':87.0,'Kerala':876,'Sikkim':74,'Rajasthan':87,'Tripura':765},\n",
    "      'Wheat':{'Andhra Pradesh':76.9,'Gujarat':987,'Goa':98,'Kerala':987,'Sikkim':98,'Rajasthan':43,'Tripura':98},\n",
    "      'Maize':{'Andhra Pradesh':75,'Gujarat':86,'Goa':86,'Kerala':77,'Sikkim':87,'Rajasthan':866,'Tripura':97}}\n",
    "pdf=pd.DataFrame(iprod)\n",
    "print(pdf)\n",
    "iprod1={'Rice':{'Andhra Pradesh':365,'Gujarat':871,'Goa':81.0,'Kerala':76,'Sikkim':84,'Rajasthan':83,'Tripura':65},\n",
    "      'Wheat':{'Andhra Pradesh':7.9,'Gujarat':7,'Goa':8,'Kerala':97,'Sikkim':8,'Rajasthan':3,'Tripura':8},\n",
    "      'Maize':{'Andhra Pradesh':5,'Gujarat':6,'Goa':8,'Kerala':717,'Sikkim':837,'Rajasthan':86,'Tripura':97}}\n",
    "pdf1=pd.DataFrame(iprod1)\n",
    "print(pdf1)\n",
    "print(pdf.combine_first(pdf1))"
   ]
  },
  {
   "cell_type": "code",
   "execution_count": 154,
   "id": "2812a022",
   "metadata": {},
   "outputs": [
    {
     "name": "stdout",
     "output_type": "stream",
     "text": [
      "                 Rice  Wheat  Maize\n",
      "Andhra Pradesh   35.8   76.9     75\n",
      "Gujarat         865.0  987.0     86\n",
      "Goa              87.0   98.0     86\n",
      "Kerala          876.0  987.0     77\n",
      "Sikkim           74.0   98.0     87\n",
      "Rajasthan        87.0   43.0    866\n",
      "Tripura         765.0   98.0     97\n",
      "     Rice  Wheat  Maize\n",
      "0    35.8   76.9     75\n",
      "1   865.0  987.0     86\n",
      "2    87.0   98.0     86\n",
      "3   876.0  987.0     77\n",
      "4    74.0   98.0     87\n",
      "5    87.0   43.0    866\n",
      "6   765.0   98.0     97\n",
      "7   365.0    7.9      5\n",
      "8   871.0    7.0      6\n",
      "9    81.0    8.0      8\n",
      "10   76.0   97.0    717\n",
      "11   84.0    8.0    837\n",
      "12   83.0    3.0     86\n",
      "13   65.0    8.0     97\n"
     ]
    }
   ],
   "source": [
    "iprod={'Rice':{'Andhra Pradesh':35.8,'Gujarat':865,'Goa':87.0,'Kerala':876,'Sikkim':74,'Rajasthan':87,'Tripura':765},\n",
    "      'Wheat':{'Andhra Pradesh':76.9,'Gujarat':987,'Goa':98,'Kerala':987,'Sikkim':98,'Rajasthan':43,'Tripura':98},\n",
    "      'Maize':{'Andhra Pradesh':75,'Gujarat':86,'Goa':86,'Kerala':77,'Sikkim':87,'Rajasthan':866,'Tripura':97}}\n",
    "pdf=pd.DataFrame(iprod)\n",
    "print(pdf)\n",
    "iprod1={'Rice':{'Andhra Pradesh':365,'Gujarat':871,'Goa':81.0,'Kerala':76,'Sikkim':84,'Rajasthan':83,'Tripura':65},\n",
    "      'Wheat':{'Andhra Pradesh':7.9,'Gujarat':7,'Goa':8,'Kerala':97,'Sikkim':8,'Rajasthan':3,'Tripura':8},\n",
    "      'Maize':{'Andhra Pradesh':5,'Gujarat':6,'Goa':8,'Kerala':717,'Sikkim':837,'Rajasthan':86,'Tripura':97}}\n",
    "pdf0=pd.DataFrame(iprod1)\n",
    "pdf1=pd.concat([pdf,pdf0],ignore_index=True)\n",
    "print(pdf1)"
   ]
  },
  {
   "cell_type": "code",
   "execution_count": null,
   "id": "59775af7",
   "metadata": {},
   "outputs": [],
   "source": []
  }
 ],
 "metadata": {
  "kernelspec": {
   "display_name": "Python 3 (ipykernel)",
   "language": "python",
   "name": "python3"
  },
  "language_info": {
   "codemirror_mode": {
    "name": "ipython",
    "version": 3
   },
   "file_extension": ".py",
   "mimetype": "text/x-python",
   "name": "python",
   "nbconvert_exporter": "python",
   "pygments_lexer": "ipython3",
   "version": "3.9.7"
  }
 },
 "nbformat": 4,
 "nbformat_minor": 5
}
